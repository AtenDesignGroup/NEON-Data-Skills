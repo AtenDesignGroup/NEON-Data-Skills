{
 "cells": [
  {
   "cell_type": "markdown",
   "metadata": {},
   "source": [
    "---\n",
    "syncID: 5be9f80592394af3bc09cf8e469fef6e\n",
    "title: \"Using neonUtilities in Python\"\n",
    "description: \"Use the neonUtilities R package in Python, via the rpy2 library.\"\n",
    "dateCreated: 2018-5-10\n",
    "authors: Claire K. Lunch\n",
    "contributors: \n",
    "estimatedTime: 20 minutes\n",
    "packagesLibraries: rpy2\n",
    "topics: data-management,rep-sci\n",
    "languagesTool: python\n",
    "dataProduct: \n",
    "code1: /Python/neonUtilities/neonUtilitiesPython.ipynb\n",
    "tutorialSeries: \n",
    "urlTitle: neon-utilities-python\n",
    "---"
   ]
  },
  {
   "cell_type": "markdown",
   "metadata": {},
   "source": [
    "The instructions below will guide you through using the neonUtilities R package \n",
    "in Python, via the rpy2 package. rpy2 creates an R environment you can interact \n",
    "with from Python.\n",
    "\n",
    "The assumption in this tutorial is that you want to work with NEON data in \n",
    "Python, but you want to use the handy download and merge functions provided by \n",
    "the `neonUtilities` R package to access and format the data for analysis. If \n",
    "you want to do your analyses in R, use one of the R-based tutorials below.\n",
    "\n",
    "For more information about the `neonUtilities` package, and instructions for \n",
    "running it in R directly, see the <a href=\"https://www.neonscience.org/download-explore-neon-data\" target=\"_blank\">Download and Explore</a> tutorial \n",
    "and/or the <a href=\"http://www.neonscience.org/neonDataStackR\" target=\"_blank\">neonUtilities tutorial</a>.\n",
    "\n",
    "\n",
    "## Install and set up\n",
    "\n",
    "Before starting, you will need:\n",
    "\n",
    "1. Python 3 installed. It is probably possible to use this workflow in Python 2, \n",
    "but these instructions were developed and tested using 3.7.4.\n",
    "2. R installed. You don't need to have ever used it directly. We tested using \n",
    "R 3.6.1, but most other recent versions should also work.\n",
    "3. `rpy2` installed. Run the line below from the command line, it won't run within \n",
    "Jupyter. See <a href=\"https://docs.python.org/3/installing/\" target=\"_blank\">Python documentation</a> for more information on how to install packages. \n",
    "`rpy2` often has install problems on Windows, see \"Windows Users\" section below if \n",
    "you are running Windows.\n",
    "4. You may need to install `pip` before installing `rpy2`, if you don't have it \n",
    "installed already.\n",
    "\n",
    "From the command line, run:"
   ]
  },
  {
   "cell_type": "code",
   "execution_count": null,
   "metadata": {},
   "outputs": [],
   "source": [
    "pip install rpy2"
   ]
  },
  {
   "cell_type": "markdown",
   "metadata": {},
   "source": [
    "### Windows users\n",
    "\n",
    "The rpy2 package was built for Mac, and doesn't always work smoothly on Windows. \n",
    "If you have trouble with the install, try these steps.\n",
    "\n",
    "1. Add C:\\Program Files\\R\\R-3.3.1\\bin\\x64 to the Windows Environment Variable “Path”\n",
    "2. Install rpy2 manually from https://www.lfd.uci.edu/~gohlke/pythonlibs/#rpy2\n",
    "    1. Pick the correct version. At the download page the portion of the files \n",
    "    with cp## relate to the Python version. e.g., rpy2 2.9.2 cp36 cp36m win_amd64.whl \n",
    "    is the correct download when 2.9.2 is the latest version of rpy2 and you are \n",
    "    running Python 36 and 64 bit Windows (amd64).\n",
    "    2. Save the whl file, navigate to it in windows then run pip directly on the file \n",
    "    as follows “pip install rpy2 2.9.2 cp36 cp36m win_amd64.whl”\n",
    "3. Add  an R_HOME Windows environment variable with the path C:\\Program Files\\R\\R-3.4.3 \n",
    "(or whichever version you are running)\n",
    "4. Add an R_USER Windows environment variable with the path C:\\Users\\yourUserName\\AppData\\Local\\Continuum\\Anaconda3\\Lib\\site-packages\\rpy2"
   ]
  },
  {
   "cell_type": "markdown",
   "metadata": {},
   "source": [
    "## Load packages"
   ]
  },
  {
   "cell_type": "markdown",
   "metadata": {},
   "source": [
    "Now import `rpy2` into your session."
   ]
  },
  {
   "cell_type": "code",
   "execution_count": 1,
   "metadata": {},
   "outputs": [],
   "source": [
    "import rpy2\n",
    "import rpy2.robjects as robjects\n",
    "from rpy2.robjects.packages import importr"
   ]
  },
  {
   "cell_type": "markdown",
   "metadata": {},
   "source": [
    "Load the base R functionality, using the `rpy2` function `importr()`."
   ]
  },
  {
   "cell_type": "code",
   "execution_count": 2,
   "metadata": {},
   "outputs": [],
   "source": [
    "base = importr('base')\n",
    "utils = importr('utils')\n",
    "stats = importr('stats')"
   ]
  },
  {
   "cell_type": "markdown",
   "metadata": {},
   "source": [
    "The basic syntax for running R code via `rpy2` is `package.function(inputs)`, \n",
    "where `package` is the R package in use, `function` is the name of the function \n",
    "within the R package, and `inputs` are the inputs to the function. In other \n",
    "words, it's very similar to running code in R as `package::function(inputs)`. \n",
    "For example:"
   ]
  },
  {
   "cell_type": "code",
   "execution_count": 3,
   "metadata": {},
   "outputs": [
    {
     "data": {
      "text/html": [
       "\n",
       "        <span>FloatVector with 6 elements.</span>\n",
       "        <table>\n",
       "        <tbody>\n",
       "          <tr>\n",
       "          \n",
       "            <td>\n",
       "            0.431768\n",
       "            </td>\n",
       "          \n",
       "            <td>\n",
       "            1.299152\n",
       "            </td>\n",
       "          \n",
       "            <td>\n",
       "            0.548454\n",
       "            </td>\n",
       "          \n",
       "            <td>\n",
       "            -0.763626\n",
       "            </td>\n",
       "          \n",
       "            <td>\n",
       "            -0.252998\n",
       "            </td>\n",
       "          \n",
       "            <td>\n",
       "            0.793500\n",
       "            </td>\n",
       "          \n",
       "          </tr>\n",
       "        </tbody>\n",
       "        </table>\n",
       "        "
      ],
      "text/plain": [
       "R object with classes: ('numeric',) mapped to:\n",
       "[0.431768, 1.299152, 0.548454, -0.763626, -0.252998, 0.793500]"
      ]
     },
     "execution_count": 3,
     "metadata": {},
     "output_type": "execute_result"
    }
   ],
   "source": [
    "stats.rnorm(6, 0, 1)"
   ]
  },
  {
   "cell_type": "markdown",
   "metadata": {},
   "source": [
    "Suppress R warnings. This step can be skipped, but will result in messages \n",
    "getting passed through from R that Python will interpret as warnings."
   ]
  },
  {
   "cell_type": "code",
   "execution_count": 10,
   "metadata": {},
   "outputs": [],
   "source": [
    "from rpy2.rinterface_lib.callbacks import logger as rpy2_logger\n",
    "import logging\n",
    "rpy2_logger.setLevel(logging.ERROR)"
   ]
  },
  {
   "cell_type": "markdown",
   "metadata": {},
   "source": [
    "Install the `neonUtilities` R package. Here I've specified the RStudio \n",
    "CRAN mirror as the source, but you can use a different one if you \n",
    "prefer.\n",
    "\n",
    "You only need to do this step once to use the package, but we update \n",
    "the `neonUtilities` package every few months, so reinstalling \n",
    "periodically is recommended.\n",
    "\n",
    "This installation step carries out the same steps in the same places on \n",
    "your hard drive that it would if run in R directly, so if you use R \n",
    "regularly and have already installed `neonUtilities` on your machine, \n",
    "you can skip this step. And be aware, this also means if you install \n",
    "other packages, or new versions of packages, via `rpy2`, they'll \n",
    "be updated the next time you use R, too.\n",
    "\n",
    "The semicolon at the end of the line (here, and in some other function \n",
    "calls below) can be omitted. It suppresses a note indicating the output \n",
    "of the function is null. The output is null because these functions download \n",
    "or modify files on your local drive, but none of the data are read into the \n",
    "Python or R environments."
   ]
  },
  {
   "cell_type": "code",
   "execution_count": 13,
   "metadata": {},
   "outputs": [
    {
     "name": "stdout",
     "output_type": "stream",
     "text": [
      "\n",
      "The downloaded binary packages are in\n",
      "\t/var/folders/_k/gbjn452j1h3fk7880d5ppkx1_9xf6m/T//RtmpU6aAs8/downloaded_packages\n"
     ]
    }
   ],
   "source": [
    "utils.install_packages('neonUtilities', repos='https://cran.rstudio.com/');"
   ]
  },
  {
   "cell_type": "markdown",
   "metadata": {},
   "source": [
    "Now load the `neonUtilities` package. This does need to be run every time \n",
    "you use the code; if you're familiar with R, `importr()` is roughly \n",
    "equivalent to the `library()` function in R."
   ]
  },
  {
   "cell_type": "code",
   "execution_count": 14,
   "metadata": {},
   "outputs": [],
   "source": [
    "neonUtilities = importr('neonUtilities')"
   ]
  },
  {
   "cell_type": "markdown",
   "metadata": {},
   "source": [
    "## Join data files: stackByTable()\n",
    "\n",
    "The function `stackByTable()` in `neonUtilities` merges the monthly, \n",
    "site-level files the <a href=\"http://data.neonscience.org/home\" target=\"_blank\">NEON Data Portal</a> \n",
    "provides. Start by downloading the dataset you're interested in from the \n",
    "Portal. Here, we'll assume you've downloaded IR Biological Temperature. \n",
    "It will download as a single zip file named `NEON_temp-bio.zip`. Note the \n",
    "file path it's saved to and proceed."
   ]
  },
  {
   "cell_type": "markdown",
   "metadata": {},
   "source": [
    "Run the `stackByTable()` function to stack the data. It requires only one \n",
    "input, the path to the zip file you downloaded from the NEON Data Portal.\n",
    "\n",
    "For additional, optional inputs to `stackByTable()`, see the <a href=\"http://neonscience.org/neonDataStackR\" target=\"_blank\">R tutorial</a> \n",
    "for neonUtilities."
   ]
  },
  {
   "cell_type": "code",
   "execution_count": 16,
   "metadata": {},
   "outputs": [
    {
     "name": "stdout",
     "output_type": "stream",
     "text": [
      "Unpacking zip files using 1 cores.\n",
      "Stacking operation across a single core.\n",
      "Stacking table IRBT_1_minute\n",
      "Stacking table IRBT_30_minute\n",
      "Merged the most recent publication of sensor position files for each site and saved to /stackedFiles\n",
      "Copied the most recent publication of variable definition file to /stackedFiles\n",
      "Finished: Stacked 2 data tables and 2 metadata tables!\n",
      "Stacking took 29.08325 secs\n",
      "All unzipped monthly data folders have been removed.\n"
     ]
    }
   ],
   "source": [
    "neonUtilities.stackByTable(filepath='~/Downloads/NEON_temp-bio.zip');"
   ]
  },
  {
   "cell_type": "markdown",
   "metadata": {},
   "source": [
    "Check the folder containing the original zip file from the Data Portal; \n",
    "you should now have a subfolder containing the unzipped and stacked files called `stackedFiles`."
   ]
  },
  {
   "cell_type": "markdown",
   "metadata": {},
   "source": [
    "## Download files to be stacked: zipsByProduct()\n",
    "\n",
    "The function `zipsByProduct()` uses the <a href=\"http://data.neonscience.org/data-api\" target=\"_blank\">NEON API</a> to programmatically download \n",
    "data files for a given product. The files downloaded by `zipsByProduct()` \n",
    "can then be fed into `stackByTable()`."
   ]
  },
  {
   "cell_type": "markdown",
   "metadata": {},
   "source": [
    "Run the downloader with these inputs: a DPID, a set of 4-letter site IDs (or \n",
    "\"all\" for all sites), a download package (either basic or expanded), the \n",
    "filepath to download the data to, and an indicator to check the size of \n",
    "your download before proceeding or not (TRUE/FALSE).\n",
    "\n",
    "The DPID is the data product identifier, and can be found in the data product \n",
    "box on the NEON <a href=\"https://data.neonscience.org/data-products/explore\" target=\"_blank\">Explore Data</a> page. \n",
    "Here we'll download Breeding landbird point counts, DP1.10003.001.\n",
    "\n",
    "There are two differences relative to running `zipsByProduct()` in R directly: \n",
    "\n",
    "1. `check.size` becomes `check_size`, because dots have programmatic meaning \n",
    "in Python\n",
    "2. `TRUE` (or `T`) becomes `'TRUE'` because the values TRUE and FALSE don't \n",
    "have special meaning in Python the way they do in R, so it interprets them \n",
    "as variables if they're unquoted.\n",
    "\n",
    "`check_size='TRUE'` does not work correctly in the Python environment. It \n",
    "estimates the size of the download and asks you to confirm before proceeding, \n",
    "and this interactive display doesn't work correctly outside R. Set \n",
    "`check_size='FALSE'` to avoid this problem, but be thoughtful about the size \n",
    "of your query since it will proceed to download without checking."
   ]
  },
  {
   "cell_type": "code",
   "execution_count": 21,
   "metadata": {},
   "outputs": [
    {
     "name": "stdout",
     "output_type": "stream",
     "text": [
      "Downloading files totaling approximately 0.564841 MB\n",
      "Downloading 11 files\n",
      "  |======================================================================| 100%\n",
      "11 files downloaded to ~/Downloads/filesToStack10003\n"
     ]
    }
   ],
   "source": [
    "neonUtilities.zipsByProduct(dpID='DP1.10003.001', \n",
    "                            site=base.c('HARV','BART'), \n",
    "                            savepath='~/Downloads',\n",
    "                            package='basic', \n",
    "                            check_size='FALSE');"
   ]
  },
  {
   "cell_type": "markdown",
   "metadata": {},
   "source": [
    "The message output by `zipsByProduct()` indicates the file path where the \n",
    "files have been downloaded.\n",
    "\n",
    "Now take that file path and pass it to `stackByTable()`."
   ]
  },
  {
   "cell_type": "code",
   "execution_count": 23,
   "metadata": {},
   "outputs": [
    {
     "name": "stdout",
     "output_type": "stream",
     "text": [
      "Unpacking zip files using 1 cores.\n",
      "Stacking operation across a single core.\n",
      "Stacking table brd_countdata\n",
      "Stacking table brd_perpoint\n",
      "Copied the most recent publication of validation file to /stackedFiles\n",
      "Copied the most recent publication of variable definition file to /stackedFiles\n",
      "Finished: Stacked 2 data tables and 2 metadata tables!\n",
      "Stacking took 0.171813 secs\n",
      "All unzipped monthly data folders have been removed.\n"
     ]
    }
   ],
   "source": [
    "neonUtilities.stackByTable(filepath='~/Downloads/filesToStack10003');"
   ]
  },
  {
   "cell_type": "markdown",
   "metadata": {},
   "source": [
    "## Read downloaded and stacked files into Python\n",
    "\n",
    "We've now downloaded biological temperature and bird data, and merged \n",
    "the site by month files. Now let's read those data into Python so you \n",
    "can proceed with analyses.\n",
    "\n",
    "First let's take a look at what's in the output folders."
   ]
  },
  {
   "cell_type": "code",
   "execution_count": 38,
   "metadata": {},
   "outputs": [
    {
     "data": {
      "text/plain": [
       "['brd_countdata.csv',\n",
       " 'brd_perpoint.csv',\n",
       " 'readme_10003.txt',\n",
       " 'variables_10003.csv',\n",
       " 'validation_10003.csv']"
      ]
     },
     "execution_count": 38,
     "metadata": {},
     "output_type": "execute_result"
    }
   ],
   "source": [
    "import os\n",
    "os.listdir('filesToStack10003/stackedFiles/')"
   ]
  },
  {
   "cell_type": "code",
   "execution_count": 39,
   "metadata": {},
   "outputs": [
    {
     "data": {
      "text/plain": [
       "['IRBT_1_minute.csv',\n",
       " 'sensor_positions_00005.csv',\n",
       " 'IRBT_30_minute.csv',\n",
       " 'variables_00005.csv',\n",
       " 'readme_00005.txt']"
      ]
     },
     "execution_count": 39,
     "metadata": {},
     "output_type": "execute_result"
    }
   ],
   "source": [
    "os.listdir('NEON_temp-bio/stackedFiles/')"
   ]
  },
  {
   "cell_type": "markdown",
   "metadata": {},
   "source": [
    "Each data product folder contains a set of data files and metadata files. \n",
    "Here, we'll read in the data files and take a look at the contents; for \n",
    "more details about the contents of these files and how to interpret them, \n",
    "see the <a href=\"https://www.neonscience.org/download-explore-neon-data\" target=\"_blank\">Download and Explore tutorial</a>."
   ]
  },
  {
   "cell_type": "code",
   "execution_count": 27,
   "metadata": {},
   "outputs": [
    {
     "ename": "FileNotFoundError",
     "evalue": "[Errno 2] No such file or directory: '~/Downloads/filesToStack10003'",
     "output_type": "error",
     "traceback": [
      "\u001b[0;31m---------------------------------------------------------------------------\u001b[0m",
      "\u001b[0;31mFileNotFoundError\u001b[0m                         Traceback (most recent call last)",
      "\u001b[0;32m<ipython-input-27-59dc16b14f1d>\u001b[0m in \u001b[0;36m<module>\u001b[0;34m\u001b[0m\n\u001b[0;32m----> 1\u001b[0;31m \u001b[0mb\u001b[0m \u001b[0;34m=\u001b[0m \u001b[0mopen\u001b[0m\u001b[0;34m(\u001b[0m\u001b[0;34m'~/Downloads/filesToStack10003'\u001b[0m\u001b[0;34m)\u001b[0m\u001b[0;34m\u001b[0m\u001b[0;34m\u001b[0m\u001b[0m\n\u001b[0m",
      "\u001b[0;31mFileNotFoundError\u001b[0m: [Errno 2] No such file or directory: '~/Downloads/filesToStack10003'"
     ]
    }
   ],
   "source": [
    "b = open('~/Downloads/filesToStack10003/stackedFiles/')"
   ]
  },
  {
   "cell_type": "markdown",
   "metadata": {},
   "source": [
    "## Download remote sensing files: byFileAOP()\n",
    "\n",
    "The function `byFileAOP()` uses the <a href=\"http://data.neonscience.org/data-api\" target=\"_blank\">NEON API</a> \n",
    "to programmatically download data files for remote sensing (AOP) data \n",
    "products. These files cannot be stacked by `stackByTable()` because they \n",
    "are not tabular data. The function simply creates a folder in your working \n",
    "directory and writes the files there. It preserves the folder structure \n",
    "for the subproducts.\n",
    "\n",
    "The inputs to `byFileAOP()` are a data product ID, a site, a year, and an \n",
    "indicator to check the size of the download before proceeding, or not. As \n",
    "above, if you are working in an environment that won't handle the \n",
    "interactive question, set check_size=\"FALSE\"."
   ]
  },
  {
   "cell_type": "code",
   "execution_count": null,
   "metadata": {},
   "outputs": [],
   "source": [
    "neonUtils.byFileAOP(dpID='DP3.30015.001', site='HOPB', \n",
    "                    year='2017', check_size='TRUE');"
   ]
  }
 ],
 "metadata": {
  "kernelspec": {
   "display_name": "Python 3",
   "language": "python",
   "name": "python3"
  },
  "language_info": {
   "codemirror_mode": {
    "name": "ipython",
    "version": 3
   },
   "file_extension": ".py",
   "mimetype": "text/x-python",
   "name": "python",
   "nbconvert_exporter": "python",
   "pygments_lexer": "ipython3",
   "version": "3.7.4"
  }
 },
 "nbformat": 4,
 "nbformat_minor": 2
}
