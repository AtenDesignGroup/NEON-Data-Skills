{
 "cells": [
  {
   "cell_type": "markdown",
   "metadata": {},
   "source": [
    "---\n",
    "syncID: 5be9f80592394af3bc09cf8e469fef6e\n",
    "title: \"Using neonUtilities in Python\"\n",
    "description: \"Use the neonUtilities R package in Python, via the rpy2 library.\"\n",
    "dateCreated: 2018-5-10\n",
    "authors: Claire K. Lunch\n",
    "contributors: \n",
    "estimatedTime: 20 minutes\n",
    "packagesLibraries: rpy2\n",
    "topics: data-management,rep-sci\n",
    "languagesTool: python\n",
    "dataProduct: \n",
    "code1: /Python/neonUtilities/neonUtilitiesPython.ipynb\n",
    "tutorialSeries: \n",
    "urlTitle: neon-utilities-python\n",
    "---"
   ]
  },
  {
   "cell_type": "markdown",
   "metadata": {},
   "source": [
    "The instructions below will guide you through using the neonUtilities R package \n",
    "in Python, via the rpy2 package. rpy2 creates an R environment you can interact \n",
    "with from Python. The focus in this tutorial is on the Python implementation, \n",
    "rather than a comprehensive overview of the package itself. For more \n",
    "information about the package, and instructions for running it in R directly, \n",
    "see the readme for the package on the <a href=\"https://github.com/NEONScience/NEON-utilities/tree/master/neonUtilities\" target=\"_blank\">NEON-utilities GitHub repo</a>, \n",
    "and the tutorial on the <a href=\"http://www.neonscience.org/neonDataStackR\" target=\"_blank\">NEON Data Skills page</a>.\n",
    "\n",
    "\n",
    "## Install and set up\n",
    "\n",
    "Before starting, you will need:\n",
    "\n",
    "1. Python 3 installed. It is probably possible to use this workflow in Python 2, \n",
    "but these instructions were developed and tested using 3.6.4.\n",
    "2. R installed. You don't need to have ever used it directly. We tested using \n",
    "R 3.4.3, but most other recent versions should also work.\n",
    "3. `rpy2` installed. Run the line below from the command line, it won't run within \n",
    "Jupyter. See <a href=\"https://docs.python.org/3/installing/\" target=\"_blank\">Python documentation</a> for more information on how to install packages. \n",
    "`rpy2` often has install problems on Windows, see \"Windows Users\" section below if \n",
    "you are running Windows.\n",
    "4. You may need to install `pip` before installing `rpy2`, if you don't have it \n",
    "installed already.\n",
    "\n",
    "From the command line, run:"
   ]
  },
  {
   "cell_type": "code",
   "execution_count": null,
   "metadata": {
    "collapsed": true
   },
   "outputs": [],
   "source": [
    "pip install rpy2"
   ]
  },
  {
   "cell_type": "markdown",
   "metadata": {},
   "source": [
    "### Windows users\n",
    "\n",
    "The rpy2 package was built for Mac, and doesn't always work smoothly on Windows. \n",
    "If you have trouble with the install, try these steps.\n",
    "\n",
    "1. Add C:\\Program Files\\R\\R-3.3.1\\bin\\x64 to the Windows Environment Variable “Path”\n",
    "2. Install rpy2 manually from https://www.lfd.uci.edu/~gohlke/pythonlibs/#rpy2\n",
    "    1. Pick the correct version. At the download page the portion of the files \n",
    "    with cp## relate to the Python version. e.g., rpy2 2.9.2 cp36 cp36m win_amd64.whl \n",
    "    is the correct download when 2.9.2 is the latest version of rpy2 and you are \n",
    "    running Python 36 and 64 bit Windows (amd64).\n",
    "    2. Save the whl file, navigate to it in windows then run pip directly on the file \n",
    "    as follows “pip install rpy2 2.9.2 cp36 cp36m win_amd64.whl”\n",
    "3. Add  an R_HOME Windows environment variable with the path C:\\Program Files\\R\\R-3.4.3 \n",
    "(or whichever version you are running)\n",
    "4. Add an R_USER Windows environment variable with the path C:\\Users\\yourUserName\\AppData\\Local\\Continuum\\Anaconda3\\Lib\\site-packages\\rpy2"
   ]
  },
  {
   "cell_type": "markdown",
   "metadata": {},
   "source": [
    "## Load packages"
   ]
  },
  {
   "cell_type": "markdown",
   "metadata": {},
   "source": [
    "Now import `rpy2` into your session."
   ]
  },
  {
   "cell_type": "code",
   "execution_count": 1,
   "metadata": {},
   "outputs": [],
   "source": [
    "import rpy2\n",
    "import rpy2.robjects as robjects\n",
    "from rpy2.robjects.packages import importr"
   ]
  },
  {
   "cell_type": "markdown",
   "metadata": {},
   "source": [
    "Load the base R functionality, using the `rpy2` function `importr()`."
   ]
  },
  {
   "cell_type": "code",
   "execution_count": 2,
   "metadata": {},
   "outputs": [],
   "source": [
    "base = importr('base')\n",
    "utils = importr('utils')\n",
    "stats = importr('stats')"
   ]
  },
  {
   "cell_type": "markdown",
   "metadata": {},
   "source": [
    "The basic syntax for running R code via `rpy2` is `package.function(inputs)`, \n",
    "where `package` is the R package in use, `function` is the name of the function \n",
    "within the R package, and `inputs` are the inputs to the function. In other \n",
    "words, it's very similar to running code in R as `package::function(inputs)`. \n",
    "For example:"
   ]
  },
  {
   "cell_type": "code",
   "execution_count": 6,
   "metadata": {},
   "outputs": [
    {
     "data": {
      "text/html": [
       "\n",
       "    <span>FloatVector with 6 elements.</span>\n",
       "    <table>\n",
       "      <tbody>\n",
       "      <tr>\n",
       "      \n",
       "      <td>\n",
       "        -1.767571\n",
       "      </td>\n",
       "      \n",
       "      <td>\n",
       "        -0.550345\n",
       "      </td>\n",
       "      \n",
       "      <td>\n",
       "        -0.195803\n",
       "      </td>\n",
       "      \n",
       "      <td>\n",
       "        -1.345787\n",
       "      </td>\n",
       "      \n",
       "      <td>\n",
       "        -1.184887\n",
       "      </td>\n",
       "      \n",
       "      <td>\n",
       "        -1.140016\n",
       "      </td>\n",
       "      \n",
       "      </tr>\n",
       "      </tbody>\n",
       "    </table>\n",
       "    "
      ],
      "text/plain": [
       "R object with classes: ('numeric',) mapped to:\n",
       "<FloatVector - Python:0x10b423708 / R:0x7f86cdd9a270>\n",
       "[-1.767571, -0.550345, -0.195803, -1.345787, -1.184887, -1.140016]"
      ]
     },
     "execution_count": 6,
     "metadata": {},
     "output_type": "execute_result"
    }
   ],
   "source": [
    "stats.rnorm(6, 0, 1)"
   ]
  },
  {
   "cell_type": "markdown",
   "metadata": {},
   "source": [
    "Suppress R warnings. This step can be skipped, but will result in messages \n",
    "getting passed through from R that Python will interpret as warnings."
   ]
  },
  {
   "cell_type": "code",
   "execution_count": 7,
   "metadata": {},
   "outputs": [],
   "source": [
    "import warnings\n",
    "from rpy2.rinterface import RRuntimeWarning\n",
    "warnings.filterwarnings(\"ignore\", category=RRuntimeWarning)"
   ]
  },
  {
   "cell_type": "markdown",
   "metadata": {},
   "source": [
    "Install the `devtools` R package. The system will ask you to choose a \n",
    "CRAN mirror, select one close to your location. You only need to do this \n",
    "step once, although if you use this code regularly, re-installing \n",
    "periodically to get the newest version is a good idea.\n",
    "\n",
    "This installation step carries out the same steps that it would if \n",
    "run in R directly, so if you use R regularly and have already installed \n",
    "`devtools` on your machine, you can skip this step, although again, \n",
    "it's wise to update regularly. And be aware, this also means if you \n",
    "install new versions of packages via `rpy2`, they'll be updated the \n",
    "next time you use R, too.\n",
    "\n",
    "The semicolon at the end of the line (here, and in some other function \n",
    "calls below) can be omitted. It suppresses a note indicating the output \n",
    "of the function is null. The output is null because these functions download \n",
    "or modify files on your local drive, but none of the data are read into the \n",
    "Python or R environments."
   ]
  },
  {
   "cell_type": "code",
   "execution_count": 8,
   "metadata": {},
   "outputs": [
    {
     "name": "stdout",
     "output_type": "stream",
     "text": [
      "--- Please select a CRAN mirror for use in this session ---\n",
      "\n",
      "\n",
      "\n",
      "Secure CRAN mirrors\n",
      " \n",
      "\n",
      "\n",
      "\n",
      "\n",
      "\n",
      " 1: 0-Cloud [https]                   2: Algeria [https]                \n",
      " 3: Australia (Canberra) [https]      4: Australia (Melbourne 1) [https]\n",
      " 5: Australia (Melbourne 2) [https]   6: Australia (Perth) [https]      \n",
      " 7: Austria [https]                   8: Belgium (Ghent) [https]        \n",
      " 9: Brazil (PR) [https]              10: Brazil (RJ) [https]            \n",
      "11: Brazil (SP 1) [https]            12: Brazil (SP 2) [https]          \n",
      "13: Bulgaria [https]                 14: Chile 1 [https]                \n",
      "15: Chile 2 [https]                  16: China (Guangzhou) [https]      \n",
      "17: China (Lanzhou) [https]          18: China (Shanghai 1) [https]     \n",
      "19: China (Shanghai 2) [https]       20: Colombia (Cali) [https]        \n",
      "21: Czech Republic [https]           22: Denmark [https]                \n",
      "23: East Asia [https]                24: Ecuador (Cuenca) [https]       \n",
      "25: Ecuador (Quito) [https]          26: Estonia [https]                \n",
      "27: France (Lyon 1) [https]          28: France (Lyon 2) [https]        \n",
      "29: France (Marseille) [https]       30: France (Montpellier) [https]   \n",
      "31: France (Paris 2) [https]         32: Germany (Erlangen) [https]     \n",
      "33: Germany (Göttingen) [https]      34: Germany (Münster) [https]      \n",
      "35: Greece [https]                   36: Iceland [https]                \n",
      "37: India [https]                    38: Indonesia (Jakarta) [https]    \n",
      "39: Ireland [https]                  40: Italy (Padua) [https]          \n",
      "41: Japan (Tokyo) [https]            42: Japan (Yonezawa) [https]       \n",
      "43: Korea (Ulsan) [https]            44: Malaysia [https]               \n",
      "45: Mexico (Mexico City) [https]     46: Norway [https]                 \n",
      "47: Philippines [https]              48: Serbia [https]                 \n",
      "49: Spain (A Coruña) [https]         50: Spain (Madrid) [https]         \n",
      "51: Sweden [https]                   52: Switzerland [https]            \n",
      "53: Turkey (Denizli) [https]         54: Turkey (Mersin) [https]        \n",
      "55: UK (Bristol) [https]             56: UK (Cambridge) [https]         \n",
      "57: UK (London 1) [https]            58: USA (CA 1) [https]             \n",
      "59: USA (IA) [https]                 60: USA (KS) [https]               \n",
      "61: USA (MI 1) [https]               62: USA (NY) [https]               \n",
      "63: USA (OR) [https]                 64: USA (TN) [https]               \n",
      "65: USA (TX 1) [https]               66: Vietnam [https]                \n",
      "67: (other mirrors)                  \n",
      "\n",
      "\n",
      "\n",
      "\n",
      "\n",
      "Selection: 59\n",
      "\n",
      "\n",
      "\n",
      "The downloaded binary packages are in\n",
      "\t/var/folders/_k/gbjn452j1h3fk7880d5ppkx1_9xf6m/T//RtmpstlW3C/downloaded_packages\n",
      "\n",
      "\n",
      "\n"
     ]
    }
   ],
   "source": [
    "utils.install_packages('devtools');"
   ]
  },
  {
   "cell_type": "markdown",
   "metadata": {},
   "source": [
    "Now load the `devtools` package. This does need to be run every time \n",
    "you use the code; if you're familiar with R, `importr()` is roughly \n",
    "equivalent to the `library()` function in R."
   ]
  },
  {
   "cell_type": "code",
   "execution_count": 9,
   "metadata": {},
   "outputs": [],
   "source": [
    "devtools = importr('devtools')"
   ]
  },
  {
   "cell_type": "markdown",
   "metadata": {},
   "source": [
    "Using the `install_github()` function from the `devtools` package, install \n",
    "the `neonUtilities` package from its location in the <a href=\"https://github.com/NEONScience\" target=\"_blank\"> public NEON GitHub</a> \n",
    "repository. As with `devtools`, you can theoretically skip this step in \n",
    "the future, but since we update `neonUtilities` frequently, we recommend \n",
    "re-installing regularly. Then load the package."
   ]
  },
  {
   "cell_type": "code",
   "execution_count": 10,
   "metadata": {},
   "outputs": [],
   "source": [
    "devtools.install_github('NEONScience/NEON-utilities/neonUtilities');\n",
    "neonUtils = importr('neonUtilities')"
   ]
  },
  {
   "cell_type": "markdown",
   "metadata": {},
   "source": [
    "## Join data files: stackByTable()\n",
    "\n",
    "The function `stackByTable()` in `neonUtilities` merges the monthly, \n",
    "site-level files the <a href=\"http://data.neonscience.org/home\" target=\"_blank\">NEON Data Portal</a> \n",
    "provides. Start by downloading the dataset you're interested in from the \n",
    "Portal. It will download as a single zip file. Note the file path it's \n",
    "saved to and proceed."
   ]
  },
  {
   "cell_type": "markdown",
   "metadata": {},
   "source": [
    "The data stacker package comes with a data file, `table_types`. The data file \n",
    "is needed for the package to work, and `rpy2` doesn't load data by default. So \n",
    "we need to load it to the session and then pass it back to the R environment."
   ]
  },
  {
   "cell_type": "markdown",
   "metadata": {},
   "source": [
    "First, extract the data object from the package. Then extract the \n",
    "`table_types` object from the data object:"
   ]
  },
  {
   "cell_type": "code",
   "execution_count": 8,
   "metadata": {
    "collapsed": true
   },
   "outputs": [],
   "source": [
    "neonUdata = neonUtils.__rdata__\n",
    "table_types = neonUdata.fetch('table_types')['table_types']"
   ]
  },
  {
   "cell_type": "markdown",
   "metadata": {},
   "source": [
    "Now, pass it back to the R environment:"
   ]
  },
  {
   "cell_type": "code",
   "execution_count": 9,
   "metadata": {
    "collapsed": true
   },
   "outputs": [],
   "source": [
    "robjects.globalenv['table_types'] = table_types"
   ]
  },
  {
   "cell_type": "markdown",
   "metadata": {},
   "source": [
    "Now run the `stackByTable()` function to stack the data. It requires only one \n",
    "input, the path to the zip file you downloaded from the NEON Data Portal.\n",
    "\n",
    "For additional, optional inputs to `stackByTable()`, see the <a href=\"http://neonscience.org/neonDataStackR\" target=\"_blank\">R tutorial</a> \n",
    "for neonUtilities."
   ]
  },
  {
   "cell_type": "code",
   "execution_count": 10,
   "metadata": {},
   "outputs": [
    {
     "name": "stdout",
     "output_type": "stream",
     "text": [
      "Unpacked  NEON.D02.SCBI.DP1.10100.001.2014-08.expanded.20180308T180515Z.zip\n",
      "\n",
      "Unpacked  NEON.D07.ORNL.DP1.10100.001.2014-07.expanded.20180308T183441Z.zip\n",
      "\n",
      "Unpacked  NEON.D10.CPER.DP1.10100.001.2014-07.expanded.20180308T181823Z.zip\n",
      "\n",
      "Unpacked  NEON.D09.WOOD.DP1.10100.001.2014-08.expanded.20180308T182715Z.zip\n",
      "\n",
      "Unpacked  NEON.D10.STER.DP1.10100.001.2014-07.expanded.20180308T180231Z.zip\n",
      "\n",
      "Unpacked  NEON.D15.ONAQ.DP1.10100.001.2014-08.expanded.20180308T182837Z.zip\n",
      "\n",
      "Unpacked  NEON.D08.TALL.DP1.10100.001.2014-07.expanded.20180308T182745Z.zip\n",
      "\n",
      "Unpacked  NEON.D01.HARV.DP1.10100.001.2014-07.expanded.20180308T182420Z.zip\n",
      "\n",
      "Unpacked  NEON.D05.UNDE.DP1.10100.001.2014-07.expanded.20180308T180317Z.zip\n",
      "\n",
      "Unpacked  NEON.D01.BART.DP1.10100.001.2014-08.expanded.20180308T175912Z.zip\n",
      "\n",
      "Finished: All of the data are stacked into  1  tables!\n",
      "\n",
      "Copied the first available NEON.University_of_Wyoming_Stable_Isotope_Facility.bgc_CNiso_externalSummary.csv to /stackedFiles\n",
      "Copied the first available variable definition file to /stackedFiles and renamed as variables.csv\n",
      "Copied the first available validation file to /stackedFiles and renamed as validation.csv\n",
      "Stacked  sls_soilStableIsotopes\n",
      "\n"
     ]
    }
   ],
   "source": [
    "neonUtils.stackByTable(filepath='~/Downloads/NEON_isotope-soil-distrib-periodic.zip');"
   ]
  },
  {
   "cell_type": "markdown",
   "metadata": {},
   "source": [
    "Check the folder containing the original zip file from the Data Portal; \n",
    "you should now have a subfolder containing the unzipped and stacked files called `stackedFiles`."
   ]
  },
  {
   "cell_type": "markdown",
   "metadata": {},
   "source": [
    "## Download files to be stacked: zipsByProduct()\n",
    "\n",
    "The function `zipsByProduct()` uses the <a href=\"http://data.neonscience.org/data-api\" target=\"_blank\">NEON API</a> to programmatically download \n",
    "data files for a given product. The files downloaded by `zipsByProduct()` \n",
    "can then be fed into `stackByTable()`.\n",
    "\n",
    "`zipsByProduct()` will create a new folder in the R working directory and \n",
    "write the files there. First, set the working directory if it isn't set to \n",
    "where you want it."
   ]
  },
  {
   "cell_type": "code",
   "execution_count": 11,
   "metadata": {
    "collapsed": true
   },
   "outputs": [],
   "source": [
    "base.setwd('~/Downloads');"
   ]
  },
  {
   "cell_type": "markdown",
   "metadata": {},
   "source": [
    "Run the downloader with these inputs: a DPID, a 4-letter site ID (or \"all\" for all sites), \n",
    "a package (either basic or expanded), and an indicator to check the size of \n",
    "your download before proceeding or not (TRUE/FALSE).\n",
    "\n",
    "There are two differences relative to running this function in R directly: \n",
    "\n",
    "1. `check.size` becomes `check_size`, because dots have programmatic meaning \n",
    "in Python\n",
    "2. `TRUE` (or `T`) becomes `'TRUE'` because the values TRUE and FALSE don't \n",
    "have special meaning in Python the way they do in R, so it interprets them \n",
    "as variables if they're unquoted.\n",
    "\n",
    "`check_size='TRUE'` will estimate the size of the download and ask you to \n",
    "confirm before proceeding. This will cause problems in certain environments, \n",
    "or in batch processing. Under those circumstances, set `check_size='FALSE'`, \n",
    "but consider the size of your query before doing this."
   ]
  },
  {
   "cell_type": "code",
   "execution_count": 12,
   "metadata": {},
   "outputs": [
    {
     "name": "stdout",
     "output_type": "stream",
     "text": [
      "Continuing will download files totaling approximately 0.165245 MB. Do you want to proceed y/n: y\n",
      "6 zip files downloaded to /Users/clunch/filesToStack10023\n",
      "\n"
     ]
    }
   ],
   "source": [
    "neonUtils.zipsByProduct(dpID='DP1.10023.001', site='HARV', \n",
    "                        package='basic', check_size='TRUE');"
   ]
  },
  {
   "cell_type": "markdown",
   "metadata": {},
   "source": [
    "The message output by `zipsByProduct()` indicates the file path where the \n",
    "files have been downloaded.\n",
    "\n",
    "Now take that file path and pass it to `stackByTable()`. The file structure \n",
    "is slightly different from the zip file returned by the Portal, so we need \n",
    "an additional input, folder=\"TRUE\"."
   ]
  },
  {
   "cell_type": "code",
   "execution_count": 13,
   "metadata": {},
   "outputs": [
    {
     "name": "stdout",
     "output_type": "stream",
     "text": [
      "Unpacked  NEON.D01.HARV.DP1.10023.001.2013-07.basic.20180226T180545Z.zip\n",
      "\n",
      "Unpacked  NEON.D01.HARV.DP1.10023.001.2014-07.basic.20180226T174946Z.zip\n",
      "\n",
      "Unpacked  NEON.D01.HARV.DP1.10023.001.2015-06.basic.20180226T174941Z.zip\n",
      "\n",
      "Unpacked  NEON.D01.HARV.DP1.10023.001.2015-07.basic.20180226T175005Z.zip\n",
      "\n",
      "Unpacked  NEON.D01.HARV.DP1.10023.001.2016-07.basic.20180226T174902Z.zip\n",
      "\n",
      "Unpacked  NEON.D01.HARV.DP1.10023.001.2017-07.basic.20180226T174924Z.zip\n",
      "\n",
      "Finished: All of the data are stacked into  2  tables!\n",
      "\n",
      "Copied the first available variable definition file to /stackedFiles and renamed as variables.csv\n",
      "Copied the first available validation file to /stackedFiles and renamed as validation.csv\n",
      "Stacked  hbp_massdata\n",
      "Stacked  hbp_perbout\n",
      "\n"
     ]
    }
   ],
   "source": [
    "neonUtils.stackByTable(filepath='~/Downloads/filesToStack10023', folder='TRUE');"
   ]
  },
  {
   "cell_type": "markdown",
   "metadata": {},
   "source": [
    "## Download remote sensing files: byFileAOP()\n",
    "\n",
    "The function `byFileAOP()` uses the <a href=\"http://data.neonscience.org/data-api\" target=\"_blank\">NEON API</a> \n",
    "to programmatically download data files for remote sensing (AOP) data \n",
    "products. These files cannot be stacked by `stackByTable()` because they \n",
    "are not tabular data. The function simply creates a folder in your working \n",
    "directory and writes the files there. It preserves the folder structure \n",
    "for the subproducts.\n",
    "\n",
    "The inputs to `byFileAOP()` are a data product ID, a site, a year, and an \n",
    "indicator to check the size of the download before proceeding, or not. As \n",
    "above, if you are working in an environment that won't handle the \n",
    "interactive question, set check_size=\"FALSE\"."
   ]
  },
  {
   "cell_type": "code",
   "execution_count": 14,
   "metadata": {},
   "outputs": [
    {
     "name": "stdout",
     "output_type": "stream",
     "text": [
      "Continuing will download 36 files totaling approximately 140.3 MB . Do you want to proceed y/n: y\n",
      "Successfully downloaded  36  files.\n",
      "\n",
      "NEON_D01_HOPB_DP3_719000_4707000_CHM.tif downloaded to /Users/clunch/DP3.30015.001/2017/FullSite/D01/2017_HOPB_2/L3/DiscreteLidar/CanopyHeightModelGtif\n",
      "NEON_D01_HOPB_DP3_717000_4704000_CHM.tif downloaded to /Users/clunch/DP3.30015.001/2017/FullSite/D01/2017_HOPB_2/L3/DiscreteLidar/CanopyHeightModelGtif\n",
      "NEON_D01_HOPB_DP3_717000_4707000_CHM.tif downloaded to /Users/clunch/DP3.30015.001/2017/FullSite/D01/2017_HOPB_2/L3/DiscreteLidar/CanopyHeightModelGtif\n",
      "NEON_D01_HOPB_DP3_717000_4705000_CHM.tif downloaded to /Users/clunch/DP3.30015.001/2017/FullSite/D01/2017_HOPB_2/L3/DiscreteLidar/CanopyHeightModelGtif\n",
      "NEON_D01_HOPB_DP3_718000_4709000_CHM.tif downloaded to /Users/clunch/DP3.30015.001/2017/FullSite/D01/2017_HOPB_2/L3/DiscreteLidar/CanopyHeightModelGtif\n",
      "NEON_D01_HOPB_DP3_716000_4709000_CHM.tif downloaded to /Users/clunch/DP3.30015.001/2017/FullSite/D01/2017_HOPB_2/L3/DiscreteLidar/CanopyHeightModelGtif\n",
      "NEON_D01_HOPB_DP3_719000_4705000_CHM.tif downloaded to /Users/clunch/DP3.30015.001/2017/FullSite/D01/2017_HOPB_2/L3/DiscreteLidar/CanopyHeightModelGtif\n",
      "NEON_D01_HOPB_DP3_719000_4708000_CHM.tif downloaded to /Users/clunch/DP3.30015.001/2017/FullSite/D01/2017_HOPB_2/L3/DiscreteLidar/CanopyHeightModelGtif\n",
      "NEON_D01_HOPB_DP3_719000_4710000_CHM.tif downloaded to /Users/clunch/DP3.30015.001/2017/FullSite/D01/2017_HOPB_2/L3/DiscreteLidar/CanopyHeightModelGtif\n",
      "NEON_D01_HOPB_DP3_720000_4705000_CHM.tif downloaded to /Users/clunch/DP3.30015.001/2017/FullSite/D01/2017_HOPB_2/L3/DiscreteLidar/CanopyHeightModelGtif\n",
      "NEON_D01_HOPB_DP3_719000_4706000_CHM.tif downloaded to /Users/clunch/DP3.30015.001/2017/FullSite/D01/2017_HOPB_2/L3/DiscreteLidar/CanopyHeightModelGtif\n",
      "NEON_D01_HOPB_DP3_719000_4709000_CHM.tif downloaded to /Users/clunch/DP3.30015.001/2017/FullSite/D01/2017_HOPB_2/L3/DiscreteLidar/CanopyHeightModelGtif\n",
      "NEON_D01_HOPB_DP3_720000_4710000_CHM.tif downloaded to /Users/clunch/DP3.30015.001/2017/FullSite/D01/2017_HOPB_2/L3/DiscreteLidar/CanopyHeightModelGtif\n",
      "NEON.D01.HOPB.DP3.30015.001.readme.20180222T152731Z.txt downloaded to /Users/clunch/DP3.30015.001/NEON.DOM.SITE.DP3.30015.001/PROV/HOPB/20170801T000000--20170901T000000/basic\n",
      "NEON_D01_HOPB_DP3_720000_4708000_CHM.tif downloaded to /Users/clunch/DP3.30015.001/2017/FullSite/D01/2017_HOPB_2/L3/DiscreteLidar/CanopyHeightModelGtif\n",
      "NEON_D01_HOPB_DP3_717000_4706000_CHM.tif downloaded to /Users/clunch/DP3.30015.001/2017/FullSite/D01/2017_HOPB_2/L3/DiscreteLidar/CanopyHeightModelGtif\n",
      "NEON_D01_HOPB_DP3_716000_4707000_CHM.tif downloaded to /Users/clunch/DP3.30015.001/2017/FullSite/D01/2017_HOPB_2/L3/DiscreteLidar/CanopyHeightModelGtif\n",
      "NEON_D01_HOPB_DP3_716000_4708000_CHM.tif downloaded to /Users/clunch/DP3.30015.001/2017/FullSite/D01/2017_HOPB_2/L3/DiscreteLidar/CanopyHeightModelGtif\n",
      "NEON_D01_HOPB_DP3_719000_4704000_CHM.tif downloaded to /Users/clunch/DP3.30015.001/2017/FullSite/D01/2017_HOPB_2/L3/DiscreteLidar/CanopyHeightModelGtif\n",
      "NEON_D01_HOPB_DP3_716000_4710000_CHM.tif downloaded to /Users/clunch/DP3.30015.001/2017/FullSite/D01/2017_HOPB_2/L3/DiscreteLidar/CanopyHeightModelGtif\n",
      "NEON_D01_HOPB_DP3_717000_4710000_CHM.tif downloaded to /Users/clunch/DP3.30015.001/2017/FullSite/D01/2017_HOPB_2/L3/DiscreteLidar/CanopyHeightModelGtif\n",
      "NEON_D01_HOPB_DP3_718000_4708000_CHM.tif downloaded to /Users/clunch/DP3.30015.001/2017/FullSite/D01/2017_HOPB_2/L3/DiscreteLidar/CanopyHeightModelGtif\n",
      "NEON_D01_HOPB_DP3_717000_4709000_CHM.tif downloaded to /Users/clunch/DP3.30015.001/2017/FullSite/D01/2017_HOPB_2/L3/DiscreteLidar/CanopyHeightModelGtif\n",
      "NEON_D01_HOPB_DP3_716000_4705000_CHM.tif downloaded to /Users/clunch/DP3.30015.001/2017/FullSite/D01/2017_HOPB_2/L3/DiscreteLidar/CanopyHeightModelGtif\n",
      "NEON_D01_HOPB_DP3_718000_4704000_CHM.tif downloaded to /Users/clunch/DP3.30015.001/2017/FullSite/D01/2017_HOPB_2/L3/DiscreteLidar/CanopyHeightModelGtif\n",
      "NEON_D01_HOPB_DP3_720000_4709000_CHM.tif downloaded to /Users/clunch/DP3.30015.001/2017/FullSite/D01/2017_HOPB_2/L3/DiscreteLidar/CanopyHeightModelGtif\n",
      "NEON_D01_HOPB_DP3_716000_4704000_CHM.tif downloaded to /Users/clunch/DP3.30015.001/2017/FullSite/D01/2017_HOPB_2/L3/DiscreteLidar/CanopyHeightModelGtif\n",
      "NEON_D01_HOPB_DP3_718000_4705000_CHM.tif downloaded to /Users/clunch/DP3.30015.001/2017/FullSite/D01/2017_HOPB_2/L3/DiscreteLidar/CanopyHeightModelGtif\n",
      "NEON_D01_HOPB_DP3_720000_4706000_CHM.tif downloaded to /Users/clunch/DP3.30015.001/2017/FullSite/D01/2017_HOPB_2/L3/DiscreteLidar/CanopyHeightModelGtif\n",
      "NEON_D01_HOPB_DP3_717000_4708000_CHM.tif downloaded to /Users/clunch/DP3.30015.001/2017/FullSite/D01/2017_HOPB_2/L3/DiscreteLidar/CanopyHeightModelGtif\n",
      "NEON_D01_HOPB_DP3_718000_4707000_CHM.tif downloaded to /Users/clunch/DP3.30015.001/2017/FullSite/D01/2017_HOPB_2/L3/DiscreteLidar/CanopyHeightModelGtif\n",
      "NEON_D01_HOPB_DP3_718000_4706000_CHM.tif downloaded to /Users/clunch/DP3.30015.001/2017/FullSite/D01/2017_HOPB_2/L3/DiscreteLidar/CanopyHeightModelGtif\n",
      "NEON_D01_HOPB_DP3_718000_4710000_CHM.tif downloaded to /Users/clunch/DP3.30015.001/2017/FullSite/D01/2017_HOPB_2/L3/DiscreteLidar/CanopyHeightModelGtif\n",
      "NEON_D01_HOPB_DP3_720000_4707000_CHM.tif downloaded to /Users/clunch/DP3.30015.001/2017/FullSite/D01/2017_HOPB_2/L3/DiscreteLidar/CanopyHeightModelGtif\n",
      "NEON_D01_HOPB_DP3_720000_4704000_CHM.tif downloaded to /Users/clunch/DP3.30015.001/2017/FullSite/D01/2017_HOPB_2/L3/DiscreteLidar/CanopyHeightModelGtif\n",
      "NEON_D01_HOPB_DP3_716000_4706000_CHM.tif downloaded to /Users/clunch/DP3.30015.001/2017/FullSite/D01/2017_HOPB_2/L3/DiscreteLidar/CanopyHeightModelGtif\n",
      "\n"
     ]
    }
   ],
   "source": [
    "neonUtils.byFileAOP(dpID='DP3.30015.001', site='HOPB', \n",
    "                    year='2017', check_size='TRUE');"
   ]
  }
 ],
 "metadata": {
  "kernelspec": {
   "display_name": "Python [default]",
   "language": "python",
   "name": "python3"
  },
  "language_info": {
   "codemirror_mode": {
    "name": "ipython",
    "version": 3
   },
   "file_extension": ".py",
   "mimetype": "text/x-python",
   "name": "python",
   "nbconvert_exporter": "python",
   "pygments_lexer": "ipython3",
   "version": "3.6.4"
  }
 },
 "nbformat": 4,
 "nbformat_minor": 2
}
