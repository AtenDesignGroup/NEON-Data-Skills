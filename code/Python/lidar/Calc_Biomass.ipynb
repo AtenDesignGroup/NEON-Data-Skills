{
 "cells": [
  {
   "cell_type": "markdown",
   "metadata": {},
   "source": [
    "# Calculating Biomass\n",
    "\n",
    "## Background\n",
    "\n",
    "In this lesson we will calculate the Biomass for a section of the SJER site. We will be using the Canopy Height Model discrete LiDAR data product as well as field data collected by the TOS group at NEON. This lesson will calculate Biomass for individual trees in the forest. The calculation of biomass consists of four primary steps\n",
    "\n",
    "1) Delineating individual tree crowns\n",
    "2) Calculating predictor variables for all individuals\n",
    "3) Collecting training data\n",
    "4) Applying a regression model to estiamte biomass from predictors\n",
    "\n",
    "In this lesson we will use a watershed segmentation algorithm for delineating tree crowns (step 1) and and a Random Forest (RF) machine learning algorithm for relating the predictor variables to biomass (part 4). The predictor variables were selected following suggestions by Gleason et al. (2012) and biomass estimates were determined from DBH (diamter at breast height) measurements following relationships given in Jenkins et al. (2003). \n",
    "\n",
    "## Objectives\n",
    "\n",
    "I this lesson we will\n",
    "\n",
    "1) Learn how to apply a guassian smoothing fernal for high-frequency spatial filtering\n",
    "2) Apply a watershed segmentation algorithm for delineating tree crowns\n",
    "3) Calculate biomass predictor variables from a CHM\n",
    "4) See how to setup training data for Biomass predictions\n",
    "5) Apply a Random Forest machine learning approach to calculate biomass\n",
    "\n",
    "First we will import several of the typical libraries "
   ]
  },
  {
   "cell_type": "code",
   "execution_count": 1,
   "metadata": {
    "collapsed": true
   },
   "outputs": [],
   "source": [
    "import numpy as np\n",
    "import os\n",
    "import gdal, osr\n",
    "import matplotlib.pyplot as plt\n",
    "import sys\n",
    "import matplotlib.pyplot as plt\n",
    "from scipy import ndimage as ndi\n",
    "%matplotlib inline "
   ]
  },
  {
   "cell_type": "markdown",
   "metadata": {},
   "source": [
    "Next we will add libraries from skilearn which will help with the watershed delination, determination of predictor variables and random forest algorithm"
   ]
  },
  {
   "cell_type": "code",
   "execution_count": 2,
   "metadata": {
    "collapsed": true
   },
   "outputs": [],
   "source": [
    "#Import biomass specific libraries\n",
    "from skimage.morphology import watershed\n",
    "from skimage.feature import peak_local_max\n",
    "from skimage.measure import regionprops\n",
    "from sklearn.ensemble import RandomForestRegressor"
   ]
  },
  {
   "cell_type": "markdown",
   "metadata": {},
   "source": [
    "Define a function that will allow us to plot our spatial data"
   ]
  },
  {
   "cell_type": "code",
   "execution_count": 3,
   "metadata": {
    "collapsed": true
   },
   "outputs": [],
   "source": [
    "#Define plot band array function\n",
    "\n",
    "def plot_band_array(band_array,image_extent,title,cmap_title,colormap,colormap_limits):\n",
    "    plt.imshow(band_array,extent=image_extent)\n",
    "    cbar = plt.colorbar(); plt.set_cmap(colormap); plt.clim(colormap_limits)\n",
    "    cbar.set_label(cmap_title,rotation=270,labelpad=20)\n",
    "    plt.title(title); ax = plt.gca()\n",
    "    ax.ticklabel_format(useOffset=False, style='plain') \n",
    "    rotatexlabels = plt.setp(ax.get_xticklabels(),rotation=90)\n"
   ]
  },
  {
   "cell_type": "markdown",
   "metadata": {},
   "source": [
    "Define a function that will allow us to output geotiff files"
   ]
  },
  {
   "cell_type": "code",
   "execution_count": 4,
   "metadata": {
    "collapsed": true
   },
   "outputs": [],
   "source": [
    "def array2raster(newRasterfn,rasterOrigin,pixelWidth,pixelHeight,array,epsg):\n",
    "\n",
    "    cols = array.shape[1]\n",
    "    rows = array.shape[0]\n",
    "    originX = rasterOrigin[0]\n",
    "    originY = rasterOrigin[1]\n",
    "\n",
    "    driver = gdal.GetDriverByName('GTiff')\n",
    "    outRaster = driver.Create(newRasterfn, cols, rows, 1, gdal.GDT_Float32)\n",
    "    outRaster.SetGeoTransform((originX, pixelWidth, 0, originY, 0, pixelHeight))\n",
    "    outband = outRaster.GetRasterBand(1)\n",
    "    outband.WriteArray(array)\n",
    "    outRasterSRS = osr.SpatialReference()\n",
    "    outRasterSRS.ImportFromEPSG(epsg)\n",
    "    outRaster.SetProjection(outRasterSRS.ExportToWkt())\n",
    "    outband.FlushCache()\n",
    "    "
   ]
  },
  {
   "cell_type": "markdown",
   "metadata": {},
   "source": [
    "Now we will define the file path to our CHM file"
   ]
  },
  {
   "cell_type": "code",
   "execution_count": 5,
   "metadata": {
    "collapsed": true
   },
   "outputs": [],
   "source": [
    "chm_file = 'C:/RSDI_2017/Day4/Biomass/NEON_D17_SJER_DP3_256000_4106000_CHM.tif'"
   ]
  },
  {
   "cell_type": "markdown",
   "metadata": {},
   "source": [
    "We will want to output the results with the same file information as the input, so we will gather the file name information"
   ]
  },
  {
   "cell_type": "code",
   "execution_count": 6,
   "metadata": {
    "collapsed": true
   },
   "outputs": [],
   "source": [
    "#Get info from chm file for outputting results\n",
    "just_chm_file = os.path.basename(chm_file)\n",
    "just_chm_file_split = just_chm_file.split(sep=\"_\")"
   ]
  },
  {
   "cell_type": "code",
   "execution_count": 7,
   "metadata": {
    "collapsed": true
   },
   "outputs": [],
   "source": [
    "#Open the CHM file with GDAL\n",
    "chm_dataset = gdal.Open(chm_file)\n",
    "\n",
    "#Get the raster band object\n",
    "chm_raster = chm_dataset.GetRasterBand(1)\n",
    "\n",
    "#Get the NO DATA value\n",
    "noDataVal_chm = chm_raster.GetNoDataValue()\n",
    "\n",
    "#Get required metadata from CHM file\n",
    "cols_chm = chm_dataset.RasterXSize\n",
    "rows_chm = chm_dataset.RasterYSize\n",
    "bands_chm = chm_dataset.RasterCount\n",
    "mapinfo_chm =chm_dataset.GetGeoTransform()\n",
    "xMin = mapinfo_chm[0]\n",
    "yMax = mapinfo_chm[3]\n",
    "xMax = xMin + chm_dataset.RasterXSize/mapinfo_chm[1]\n",
    "yMin = yMax + chm_dataset.RasterYSize/mapinfo_chm[5]\n",
    "image_extent = (xMin,xMax,yMin,yMax)"
   ]
  },
  {
   "cell_type": "markdown",
   "metadata": {},
   "source": [
    "Now we will get the CHM data, plot it and save the figure"
   ]
  },
  {
   "cell_type": "code",
   "execution_count": 8,
   "metadata": {
    "collapsed": false
   },
   "outputs": [
    {
     "data": {
      "image/png": "[encoded data removed]",
      "text/plain": [
       "<matplotlib.figure.Figure at 0xa628e80>"
      ]
     },
     "metadata": {},
     "output_type": "display_data"
    }
   ],
   "source": [
    "#Plot the original CHM\n",
    "plt.figure(1)\n",
    "chm_array = chm_raster.ReadAsArray(0,0,cols_chm,rows_chm).astype(np.float)\n",
    "\n",
    "#PLot the CHM figure\n",
    "plot_band_array(chm_array,image_extent,'Canopy height Model','Canopy height (m)','Greens',[0, 9])\n",
    "plt.savefig(just_chm_file_split[0]+'_'+just_chm_file_split[1]+'_'+just_chm_file_split[2]+'_'+just_chm_file_split[3]+'_'+just_chm_file_split[4]+'_'+just_chm_file_split[5]+'_'+'CHM.png',dpi=300,orientation='landscape',bbox_inches='tight',pad_inches=0.1)\n"
   ]
  },
  {
   "cell_type": "markdown",
   "metadata": {},
   "source": [
    "Now we will run a Gaussian smoothing kernal (convolution) across the data set to remove spurious high vegetation points. This will help ensure we are finding the treetops properly before running the watershed segmentation algorithm. For different forest types it may be necessary to change the input parameters. Information on the function can be found at (https://docs.scipy.org/doc/scipy-0.14.0/reference/generated/scipy.ndimage.filters.gaussian_filter.html). Of most importance are the second and fourth inputs. The second input defines the standard deviation of the Gaussian smoothing kernal. Too large a value will apply too much smoothing, to small and some spurious high points may be left behind. The truncate value controls after how many standard deviations the Gaussian kernal will get cut off (since it theoretically goes to infinity)."
   ]
  },
  {
   "cell_type": "code",
   "execution_count": 9,
   "metadata": {
    "collapsed": true
   },
   "outputs": [],
   "source": [
    "#Smooth the CHM using a gaussian filter to remove spurious points\n",
    "chm_array_smooth = ndi.gaussian_filter(chm_array,2,mode='constant',cval=0,truncate=2.0)\n",
    "chm_array_smooth[chm_array==0] = 0 "
   ]
  },
  {
   "cell_type": "markdown",
   "metadata": {},
   "source": [
    "Now save a copy of filtered CHM "
   ]
  },
  {
   "cell_type": "code",
   "execution_count": 10,
   "metadata": {
    "collapsed": true
   },
   "outputs": [],
   "source": [
    "#Save the smoothed CHM\n",
    "array2raster('C:/RSDI_2017/Day4/Biomass/chm_filter.tif',(xMin,yMax),1,-1,np.array(chm_array_smooth/10000,dtype=float),32611)"
   ]
  },
  {
   "cell_type": "markdown",
   "metadata": {},
   "source": [
    "Now we will run an algorithm to determine local maximums within the image. Setting indices to 'False' returns a raster of the maximum points, as opposed to a list of coordinates. The footprint parameter is an area where only a single peak can be found. This should be approximately the size of the smallest tree. Information on more sophisticated methods to define the window can be found in Chen (2006).  "
   ]
  },
  {
   "cell_type": "code",
   "execution_count": 11,
   "metadata": {
    "collapsed": true
   },
   "outputs": [],
   "source": [
    "#Calculate local maximum points in the smoothed CHM\n",
    "local_maxi = peak_local_max(chm_array_smooth,indices=False, footprint=np.ones((5, 5)))"
   ]
  },
  {
   "cell_type": "markdown",
   "metadata": {},
   "source": [
    "Plot the raster of local maximums. The following figure shows the difference in finding local maximums for a filtered vs. non-filtered CHM.\n",
    "\n",
    "Max_filtred_non_filtered.JPG\\n\","
   ]
  },
  {
   "cell_type": "code",
   "execution_count": 12,
   "metadata": {
    "collapsed": false
   },
   "outputs": [
    {
     "data": {
      "image/png": "[encoded data removed]",
      "text/plain": [
       "<matplotlib.figure.Figure at 0xa628710>"
      ]
     },
     "metadata": {},
     "output_type": "display_data"
    }
   ],
   "source": [
    "#Plot the local maximums\n",
    "plt.figure(2)\n",
    "plot_band_array(local_maxi,image_extent,'Maximum','Maxi','Greys',[0, 1])\n",
    "plt.savefig(just_chm_file_split[0]+'_'+just_chm_file_split[1]+'_'+just_chm_file_split[2]+'_'+just_chm_file_split[3]+'_'+just_chm_file_split[4]+'_'+just_chm_file_split[5]+'_'+'Maximums.png',dpi=300,orientation='landscape',bbox_inches='tight',pad_inches=0.1)\n"
   ]
  },
  {
   "cell_type": "markdown",
   "metadata": {},
   "source": [
    "Apply labels to all of the local maximum points"
   ]
  },
  {
   "cell_type": "code",
   "execution_count": 13,
   "metadata": {
    "collapsed": true
   },
   "outputs": [],
   "source": [
    "#Identify all the maximum points\n",
    "markers = ndi.label(local_maxi)[0]"
   ]
  },
  {
   "cell_type": "markdown",
   "metadata": {},
   "source": [
    "Next we will create a mask layer of all of the vegettion points so that the watershed segmentation will only occur on the trees and not extend into the surrounding ground points. Since 0 represent ground points in the CHM, setting the mask to 1 where the CHM is not zero will define the mask"
   ]
  },
  {
   "cell_type": "code",
   "execution_count": 14,
   "metadata": {
    "collapsed": true
   },
   "outputs": [],
   "source": [
    "#Create a CHM mask so the segmentation will only occur on the trees\n",
    "chm_mask = chm_array_smooth\n",
    "chm_mask[chm_array_smooth != 0] = 1"
   ]
  },
  {
   "cell_type": "markdown",
   "metadata": {},
   "source": [
    "Next we will perfrom the watershed segmentation, which produces a raster of labels"
   ]
  },
  {
   "cell_type": "code",
   "execution_count": 15,
   "metadata": {
    "collapsed": true
   },
   "outputs": [],
   "source": [
    "#Perfrom watershed segmentation        \n",
    "labels = watershed(chm_array_smooth, markers, mask=chm_mask)"
   ]
  },
  {
   "cell_type": "markdown",
   "metadata": {},
   "source": [
    "Max_filtred_non_filtered.JPG\n",
    "\n",
    "Now we will get several properties of the individual trees which are used as predictor variables"
   ]
  },
  {
   "cell_type": "code",
   "execution_count": 16,
   "metadata": {
    "collapsed": true
   },
   "outputs": [],
   "source": [
    "#Get the properties of each segment\n",
    "tree_properties = regionprops(labels,chm_array, ['Area','BoundingBox','Centroid','Orientation','MajorAxisLength','MinorAxisLength','MaxIntensity','MinIntensity'])"
   ]
  },
  {
   "cell_type": "markdown",
   "metadata": {},
   "source": [
    "It was found that occasionally the segmenting skippen an integer number. We want to be able to match our segments to the trees in later steps, so we will create an array with only the segment numbers used."
   ]
  },
  {
   "cell_type": "code",
   "execution_count": 17,
   "metadata": {
    "collapsed": true
   },
   "outputs": [],
   "source": [
    "#Determine how many individual trees were identified\n",
    "max_labels = labels.max()\n",
    "segment_labels = np.zeros(max_labels+1)\n",
    "segment_id = np.zeros(max_labels+1)\n",
    "\n",
    "for counter in range (1,max_labels+1):\n",
    "    segment_labels[counter] = len(labels[labels==counter])\n",
    "    segment_id[counter]=counter\n",
    "    \n",
    "#Remove the non-zero elements\n",
    "segment_id = segment_id[np.nonzero(segment_labels)]\n",
    " \n"
   ]
  },
  {
   "cell_type": "markdown",
   "metadata": {},
   "source": [
    "Next we will save the segments as a geotiff and plot them"
   ]
  },
  {
   "cell_type": "code",
   "execution_count": 18,
   "metadata": {
    "collapsed": false
   },
   "outputs": [
    {
     "data": {
      "image/png": "[encoded data removed]",
      "text/plain": [
       "<matplotlib.figure.Figure at 0xa8b41d0>"
      ]
     },
     "metadata": {},
     "output_type": "display_data"
    }
   ],
   "source": [
    "#Change the lebels to flow and plot them and save as raster\n",
    "labels = np.array((labels),dtype=float)\n",
    "plt.figure(3)\n",
    "array2raster('C:/RSDI_2017/Day4/Biomass/SegmentedData.tif',(xMin,yMax),1,-1,labels,32611)\n",
    "#Change the zero labels to nans so they won't show up in the plot\n",
    "labels[labels==0] = np.nan\n",
    "      \n",
    "#Plot the segments      \n",
    "plot_band_array(labels,image_extent,'Crown Segmentation','Tree Crown Number','Spectral',[0, max_labels])\n",
    "plt.savefig(just_chm_file_split[0]+'_'+just_chm_file_split[1]+'_'+just_chm_file_split[2]+'_'+just_chm_file_split[3]+'_'+just_chm_file_split[4]+'_'+just_chm_file_split[5]+'_'+'Segmentation.png',dpi=300,orientation='landscape',bbox_inches='tight',pad_inches=0.1)\n",
    "\n"
   ]
  },
  {
   "cell_type": "markdown",
   "metadata": {},
   "source": [
    "Now we will define the predictor variables and begin to fill out their values"
   ]
  },
  {
   "cell_type": "code",
   "execution_count": 19,
   "metadata": {
    "collapsed": true
   },
   "outputs": [],
   "source": [
    "#Define several of the predictor variables\n",
    "area=np.zeros(len(tree_properties))\n",
    "diameter=np.zeros(len(tree_properties))\n",
    "max_tree_height=np.zeros(len(tree_properties))\n",
    "min_tree_height=np.zeros(len(tree_properties))\n",
    "\n",
    "#Retreive the predictor variables from the region properties\n",
    "for counter in range(0,len(tree_properties)):\n",
    "    \n",
    "    area[counter] = tree_properties[counter]['Area']\n",
    "    diameter[counter] = tree_properties[counter]['MajorAxisLength']        \n",
    "    max_tree_height[counter] =  tree_properties[counter]['MaxIntensity']    \n",
    "    min_tree_height[counter] = tree_properties[counter]['MinIntensity']  \n"
   ]
  },
  {
   "cell_type": "markdown",
   "metadata": {},
   "source": [
    "Now we will define the remaining predictor variables "
   ]
  },
  {
   "cell_type": "code",
   "execution_count": 20,
   "metadata": {
    "collapsed": false
   },
   "outputs": [],
   "source": [
    "#Define the remaining predictor variables\n",
    "\n",
    "crown_geometric_volume_full=np.zeros(len(segment_id))\n",
    "crown_geometric_volume_50th_percentile=np.zeros(len(segment_id))\n",
    "crown_geometric_volume_60th_percentile=np.zeros(len(segment_id))\n",
    "crown_geometric_volume_70th_percentile=np.zeros(len(segment_id))\n",
    "percentile_50th=np.zeros(len(segment_id))\n",
    "percentile_60th=np.zeros(len(segment_id))\n",
    "percentile_70th=np.zeros(len(segment_id))\n"
   ]
  },
  {
   "cell_type": "markdown",
   "metadata": {},
   "source": [
    "We will now run through a loop of all tree segments and gather the remaining predictor variables which include height percentiles and crown geometric volume percentiles. Inside the loop, we use logical indexing to retrieve each individual tree. We then calculate our predictor variables of interest. "
   ]
  },
  {
   "cell_type": "code",
   "execution_count": 21,
   "metadata": {
    "collapsed": false
   },
   "outputs": [],
   "source": [
    "#Cycle through all of the tree segments    \n",
    "counter=0\n",
    "for segment in segment_id:\n",
    "    #Pull out the tree of interest\n",
    "    indexes_of_tree = np.asarray(np.where(labels==segment)).T\n",
    "    tree_data = chm_array[indexes_of_tree[:,0],indexes_of_tree[:,1]]\n",
    "    #Calculate the geometric volume \n",
    "    crown_geometric_volume_full[counter]=np.sum([tree_data-np.min(tree_data)])\n",
    "    \n",
    "    #Pull out 50th percentile stats\n",
    "    percentile_50th[counter]=np.percentile(tree_data,50)\n",
    "    tree_data_50th = chm_array[indexes_of_tree[:,0],indexes_of_tree[:,1]]\n",
    "    tree_data_50th[tree_data_50th>percentile_50th[counter]] = percentile_50th[counter]\n",
    "    crown_geometric_volume_50th_percentile[counter]=np.sum([tree_data_50th-min_tree_height[counter]])\n",
    "    \n",
    "    #Pull out 60th percentile stats    \n",
    "    percentile_60th[counter]=np.percentile(tree_data,60)\n",
    "    tree_data_60th = chm_array[indexes_of_tree[:,0],indexes_of_tree[:,1]]\n",
    "    tree_data_60th[tree_data_60th>percentile_60th[counter]] = percentile_60th[counter]\n",
    "    crown_geometric_volume_60th_percentile[counter]=np.sum([tree_data_60th-min_tree_height[counter]])\n",
    "    \n",
    "    #Pull out 60th percentile stats \n",
    "    percentile_70th[counter]=np.percentile(tree_data,70)\n",
    "    tree_data_70th = chm_array[indexes_of_tree[:,0],indexes_of_tree[:,1]]\n",
    "    tree_data_70th[tree_data_70th>percentile_70th[counter]] = percentile_70th[counter]\n",
    "    crown_geometric_volume_70th_percentile[counter]=np.sum([tree_data_70th-min_tree_height[counter]])\n",
    "        \n",
    "    counter=counter+1"
   ]
  },
  {
   "cell_type": "markdown",
   "metadata": {},
   "source": [
    "We now bring in the training data file which is a simple CSV file with no header. The first column is biomass, and the remaining columns are the same predictor variables defined above. The tree diameter and max height were dfined in the TOS data along with the DBH. The field validated values are used for training, while the other were determined from the CHM and camera images by manually delineating the tree crowns and pulling out the relevant information from the CHM. Biomass was calculated from DBH accordaing to the formulas in Jenkins et al. (2003).  "
   ]
  },
  {
   "cell_type": "code",
   "execution_count": 22,
   "metadata": {
    "collapsed": true
   },
   "outputs": [],
   "source": [
    "#Define the file of training data  \n",
    "training_data_file = 'C:/RSDI_2017/Day4/Biomass/training/SJER_Biomass_Training.csv'\n",
    "\n",
    "#Read in the training data from a CSV file\n",
    "training_data = np.genfromtxt(training_data_file,delimiter=',') \n",
    "\n",
    "#Grab the biomass (Y) from the first line\n",
    "biomass = training_data[:,0]\n",
    "\n",
    "#Grab the biomass prdeictors from the remaining lines\n",
    "biomass_predictors = training_data[:,1:12]\n",
    "    "
   ]
  },
  {
   "cell_type": "markdown",
   "metadata": {},
   "source": [
    "We then define paraemters of the Random Forest classifier and fit the predictor variables from the training data to the Biomass estaimtes."
   ]
  },
  {
   "cell_type": "code",
   "execution_count": 23,
   "metadata": {
    "collapsed": false
   },
   "outputs": [
    {
     "data": {
      "text/plain": [
       "RandomForestRegressor(bootstrap=True, criterion='mse', max_depth=30,\n",
       "           max_features='auto', max_leaf_nodes=None,\n",
       "           min_impurity_split=1e-07, min_samples_leaf=1,\n",
       "           min_samples_split=2, min_weight_fraction_leaf=0.0,\n",
       "           n_estimators=10, n_jobs=1, oob_score=False, random_state=2,\n",
       "           verbose=0, warm_start=False)"
      ]
     },
     "execution_count": 23,
     "metadata": {},
     "output_type": "execute_result"
    }
   ],
   "source": [
    "#Define paraemters for Random forest regressor\n",
    "max_depth = 30\n",
    "\n",
    "#Define regressor rules\n",
    "regr_rf = RandomForestRegressor(max_depth=max_depth, random_state=2)\n",
    "\n",
    "#Fit the biomass to regressor variables\n",
    "regr_rf.fit(biomass_predictors,biomass)\n"
   ]
  },
  {
   "cell_type": "markdown",
   "metadata": {},
   "source": [
    "Now we will gather the predictor variables gathered from all the segmented trees into a single array"
   ]
  },
  {
   "cell_type": "code",
   "execution_count": 24,
   "metadata": {
    "collapsed": true
   },
   "outputs": [],
   "source": [
    "#Stack the predictor variables for all the individual trees\n",
    "all_training_data = np.stack([area,diameter,max_tree_height,min_tree_height,percentile_50th,percentile_60th,percentile_70th,crown_geometric_volume_full,crown_geometric_volume_50th_percentile,crown_geometric_volume_60th_percentile,crown_geometric_volume_70th_percentile],axis=-1)\n"
   ]
  },
  {
   "cell_type": "markdown",
   "metadata": {},
   "source": [
    "We know apply the Random Forest model to the predictor variables to retreive biomass"
   ]
  },
  {
   "cell_type": "code",
   "execution_count": 25,
   "metadata": {
    "collapsed": true
   },
   "outputs": [],
   "source": [
    "#Apply the model to the \n",
    "pred_biomass = regr_rf.predict(all_training_data)"
   ]
  },
  {
   "cell_type": "markdown",
   "metadata": {},
   "source": [
    "For outputting a raster, copy the labels raster to a biomass raster, then cycle through the segments and assign the biomass estaimte to each individual tree segment."
   ]
  },
  {
   "cell_type": "code",
   "execution_count": 26,
   "metadata": {
    "collapsed": true
   },
   "outputs": [],
   "source": [
    "#Set an out raster with the same size as the labels\n",
    "biomass_out = labels\n",
    "\n",
    "#Set counter to zero\n",
    "counter = 0\n",
    "#Assign each tree by the associated biomass\n",
    "for segment in segment_id:\n",
    "    biomass_out[biomass_out==segment] = pred_biomass[counter]\n",
    "    counter = counter+1"
   ]
  },
  {
   "cell_type": "markdown",
   "metadata": {},
   "source": [
    "Collect some of the biomass statistics and then plot the results and save an output geotiff"
   ]
  },
  {
   "cell_type": "code",
   "execution_count": 27,
   "metadata": {
    "collapsed": false
   },
   "outputs": [
    {
     "name": "stdout",
     "output_type": "stream",
     "text": [
      "Sum of biomass is  6978251.34548  kg\n"
     ]
    },
    {
     "data": {
      "image/png": "[encoded data removed]",
      "text/plain": [
       "<matplotlib.figure.Figure at 0xa91b6d8>"
      ]
     },
     "metadata": {},
     "output_type": "display_data"
    }
   ],
   "source": [
    "#Get biomass stats for plotting\n",
    "mean_biomass = np.mean(pred_biomass)\n",
    "std_biomass = np.std(pred_biomass)\n",
    "min_biomass = np.min(pred_biomass)\n",
    "sum_biomass = np.sum(pred_biomass)\n",
    "\n",
    "print('Sum of biomass is ',sum_biomass,' kg')\n",
    "\n",
    "#Plot the biomass!\n",
    "plt.figure(5)\n",
    "plot_band_array(biomass_out,image_extent,'Biomass (kg)','Biomass (kg)','winter',[min_biomass+std_biomass, mean_biomass+std_biomass*3])\n",
    "plt.savefig(just_chm_file_split[0]+'_'+just_chm_file_split[1]+'_'+just_chm_file_split[2]+'_'+just_chm_file_split[3]+'_'+just_chm_file_split[4]+'_'+just_chm_file_split[5]+'_'+'Biomass.png',dpi=300,orientation='landscape',bbox_inches='tight',pad_inches=0.1)\n",
    "array2raster('biomass.tif',(xMin,yMax),1,-1,np.array(biomass_out,dtype=float),32611)\n"
   ]
  }
 ],
 "metadata": {
  "kernelspec": {
   "display_name": "Python 3",
   "language": "python",
   "name": "python3"
  },
  "language_info": {
   "codemirror_mode": {
    "name": "ipython",
    "version": 3
   },
   "file_extension": ".py",
   "mimetype": "text/x-python",
   "name": "python",
   "nbconvert_exporter": "python",
   "pygments_lexer": "ipython3",
   "version": "3.4.5"
  }
 },
 "nbformat": 4,
 "nbformat_minor": 2
}
