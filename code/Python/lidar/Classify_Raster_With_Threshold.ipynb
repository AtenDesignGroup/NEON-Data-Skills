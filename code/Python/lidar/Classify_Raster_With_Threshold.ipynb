{
 "cells": [
  {
   "cell_type": "markdown",
   "metadata": {},
   "source": [
    "# Classify a Raster Using Threshold Values\n",
    "\n",
    "In this tutorial, we will learn how to:\n",
    "1. Read NEON LiDAR Raster Geotifs (eg. CHM, Slope Aspect) into Python numpy arrays with gdal.\n",
    "2. Create a classified raster object.\n",
    "\n",
    "First, let's import the required packages and set our plot display to be in line:"
   ]
  },
  {
   "cell_type": "code",
   "execution_count": null,
   "metadata": {
    "collapsed": true
   },
   "outputs": [],
   "source": [
    "import numpy as np\n",
    "import gdal\n",
    "import matplotlib.pyplot as plt\n",
    "%matplotlib inline\n",
    "import warnings\n",
    "warnings.filterwarnings('ignore')"
   ]
  },
  {
   "cell_type": "markdown",
   "metadata": {},
   "source": [
    "### Open a Geotif with GDAL\n",
    "\n",
    "Let's look at the SERC Canopy Height Model (CHM) to start. We can open and read this in Python using the ```gdal.Open``` function:"
   ]
  },
  {
   "cell_type": "code",
   "execution_count": null,
   "metadata": {
    "collapsed": false
   },
   "outputs": [],
   "source": [
    "chm_filename = '../data/SERC/lidar/2016_SERC_1_367000_4306000_pit_free_CHM.tif'\n",
    "chm_dataset = gdal.Open(chm_filename)"
   ]
  },
  {
   "cell_type": "markdown",
   "metadata": {},
   "source": [
    "### Read information from Geotif Tags\n",
    "The Geotif file format comes with associated metadata containing information about the location and coordinate system/projection. Once we have read in the dataset, we can access this information with the following commands: "
   ]
  },
  {
   "cell_type": "code",
   "execution_count": null,
   "metadata": {
    "collapsed": false
   },
   "outputs": [],
   "source": [
    "#Display the dataset dimensions, number of bands, driver, and geotransform \n",
    "cols = chm_dataset.RasterXSize; print('# of columns:',cols)\n",
    "rows = chm_dataset.RasterYSize; print('# of rows:',rows)\n",
    "print('# of bands:',chm_dataset.RasterCount)\n",
    "print('driver:',chm_dataset.GetDriver().LongName)"
   ]
  },
  {
   "cell_type": "markdown",
   "metadata": {},
   "source": [
    "### ```GetProjection``` \n",
    "We can use ```GetProjection``` to see information about the coordinate system and EPSG code. "
   ]
  },
  {
   "cell_type": "code",
   "execution_count": null,
   "metadata": {
    "collapsed": false
   },
   "outputs": [],
   "source": [
    "print('projection:',chm_dataset.GetProjection())"
   ]
  },
  {
   "cell_type": "markdown",
   "metadata": {},
   "source": [
    "### ```GetGeoTransform```\n",
    "\n",
    "The geotransform contains information about the origin (upper-left corner) of the raster, the pixel size, and the rotation angle of the data. All NEON data in the latest format have zero rotation. In this example, the values correspond to: "
   ]
  },
  {
   "cell_type": "code",
   "execution_count": null,
   "metadata": {
    "collapsed": false
   },
   "outputs": [],
   "source": [
    "print('geotransform:',chm_dataset.GetGeoTransform())"
   ]
  },
  {
   "cell_type": "markdown",
   "metadata": {
    "collapsed": false
   },
   "source": [
    "In this case, the geotransform values correspond to:\n",
    "\n",
    "1. Left-Most X Coordinate = `367000.0`\n",
    "2. W-E Pixel Resolution = `1.0`\n",
    "3. Rotation (0 if Image is North-Up) = `0.0`\n",
    "4. Upper Y Coordinate = `4307000.0`\n",
    "5. Rotation (0 if Image is North-Up) = `0.0`\n",
    "6. N-S Pixel Resolution = `-1.0` \n",
    "\n",
    "We can convert this information into a spatial extent (xMin, xMax, yMin, yMax) by combining information about the origin, number of columns & rows, and pixel size, as follows:"
   ]
  },
  {
   "cell_type": "code",
   "execution_count": null,
   "metadata": {
    "collapsed": false
   },
   "outputs": [],
   "source": [
    "chm_mapinfo = chm_dataset.GetGeoTransform()\n",
    "xMin = chm_mapinfo[0]\n",
    "yMax = chm_mapinfo[3]\n",
    "\n",
    "xMax = xMin + chm_dataset.RasterXSize/chm_mapinfo[1] #divide by pixel width \n",
    "yMin = yMax + chm_dataset.RasterYSize/chm_mapinfo[5] #divide by pixel height (note sign +/-)\n",
    "chm_ext = (xMin,xMax,yMin,yMax)\n",
    "print('chm raster extent:',chm_ext)"
   ]
  },
  {
   "cell_type": "markdown",
   "metadata": {},
   "source": [
    "### ```GetRasterBand``` \n",
    "We can read in a single raster band with ```GetRasterBand``` and access information about this raster band such as the No Data Value, Scale Factor, and Statitiscs as follows:"
   ]
  },
  {
   "cell_type": "code",
   "execution_count": null,
   "metadata": {
    "collapsed": false
   },
   "outputs": [],
   "source": [
    "chm_raster = chm_dataset.GetRasterBand(1)\n",
    "noDataVal = chm_raster.GetNoDataValue(); print('no data value:',noDataVal)\n",
    "scaleFactor = chm_raster.GetScale(); print('scale factor:',scaleFactor)\n",
    "chm_stats = chm_raster.GetStatistics(True,True)\n",
    "print('SERC CHM Statistics: Minimum=%.2f, Maximum=%.2f, Mean=%.3f, StDev=%.3f' % \n",
    "      (chm_stats[0], chm_stats[1], chm_stats[2], chm_stats[3]))"
   ]
  },
  {
   "cell_type": "markdown",
   "metadata": {},
   "source": [
    "### ```ReadAsArray``` \n",
    "\n",
    "Finally we can convert the raster to an array using the ReadAsArray command. Use the extension ```astype(np.float)``` to ensure the array contains floating-point numbers. Once we generate the array, we want to set No Data Values to NaN, and apply the scale factor: "
   ]
  },
  {
   "cell_type": "code",
   "execution_count": null,
   "metadata": {
    "collapsed": false
   },
   "outputs": [],
   "source": [
    "chm_array = chm_dataset.GetRasterBand(1).ReadAsArray(0,0,cols,rows).astype(np.float)\n",
    "chm_array[chm_array==int(noDataVal)]=np.nan #Assign CHM No Data Values to NaN\n",
    "chm_array=chm_array/scaleFactor\n",
    "print('SERC CHM Array:\\n',chm_array) #display array values"
   ]
  },
  {
   "cell_type": "markdown",
   "metadata": {},
   "source": [
    "### Array Statistics \n",
    "\n",
    "To get a better idea of the dataset, print some basic statistics:"
   ]
  },
  {
   "cell_type": "code",
   "execution_count": null,
   "metadata": {
    "collapsed": false
   },
   "outputs": [],
   "source": [
    "# Display statistics (min, max, mean); numpy.nanmin calculates the minimum without the NaN values.\n",
    "print('SERC CHM Array Statistics:')\n",
    "print('min:',round(np.nanmin(chm_array),2))\n",
    "print('max:',round(np.nanmax(chm_array),2))\n",
    "print('mean:',round(np.nanmean(chm_array),2))\n",
    "\n",
    "# Calculate the % of pixels that are NaN and non-zero:\n",
    "pct_nan = np.count_nonzero(np.isnan(chm_array))/(rows*cols)\n",
    "print('% NaN:',round(pct_nan*100,2))\n",
    "print('% non-zero:',round(100*np.count_nonzero(chm_array)/(rows*cols),2))"
   ]
  },
  {
   "cell_type": "code",
   "execution_count": null,
   "metadata": {
    "collapsed": false
   },
   "outputs": [],
   "source": [
    "# Define the plot_band_array function from Day 1\n",
    "def plot_band_array(band_array,refl_extent,colorlimit,ax=plt.gca(),title='',cbar ='on',cmap_title='',colormap='spectral'):\n",
    "    plot = plt.imshow(band_array,extent=refl_extent,clim=colorlimit); \n",
    "    if cbar == 'on':\n",
    "        cbar = plt.colorbar(plot,aspect=40); plt.set_cmap(colormap); \n",
    "        cbar.set_label(cmap_title,rotation=90,labelpad=20);\n",
    "    plt.title(title); ax = plt.gca(); \n",
    "    ax.ticklabel_format(useOffset=False, style='plain'); #do not use scientific notation #\n",
    "    rotatexlabels = plt.setp(ax.get_xticklabels(),rotation=90); #rotate x tick labels 90 degrees"
   ]
  },
  {
   "cell_type": "code",
   "execution_count": null,
   "metadata": {
    "collapsed": false
   },
   "outputs": [],
   "source": [
    "plot_band_array(chm_array,chm_ext,(0,80),title='SERC Canopy Height',cmap_title='Canopy Height, m')"
   ]
  },
  {
   "cell_type": "markdown",
   "metadata": {},
   "source": [
    "### Plot Histogram of Data "
   ]
  },
  {
   "cell_type": "code",
   "execution_count": null,
   "metadata": {
    "collapsed": false
   },
   "outputs": [],
   "source": [
    "import copy\n",
    "chm_nonan_array = copy.copy(chm_array)\n",
    "chm_nonan_array = chm_nonan_array[~np.isnan(chm_array)]\n",
    "plt.hist(chm_nonan_array,weights=np.zeros_like(chm_nonan_array)+1./\n",
    "         (chm_array.shape[0]*chm_array.shape[1]),bins=50);\n",
    "plt.title('Distribution of SERC Canopy Height')\n",
    "plt.xlabel('Tree Height (m)'); plt.ylabel('Relative Frequency')"
   ]
  },
  {
   "cell_type": "markdown",
   "metadata": {},
   "source": [
    "We can see that most of the values are zero. In SERC, many of the zero CHM values correspond to bodies of water as well as regions of land without trees. Let's look at a  histogram and plot the data without zero values: "
   ]
  },
  {
   "cell_type": "code",
   "execution_count": null,
   "metadata": {
    "collapsed": false
   },
   "outputs": [],
   "source": [
    "chm_nonzero_array = copy.copy(chm_array)\n",
    "chm_nonzero_array[chm_array==0]=np.nan\n",
    "chm_nonzero_nonan_array = chm_nonzero_array[~np.isnan(chm_nonzero_array)]\n",
    "# Use weighting to plot relative frequency\n",
    "plt.hist(chm_nonzero_nonan_array,weights=np.zeros_like(chm_nonzero_nonan_array)+1./\n",
    "         (chm_array.shape[0]*chm_array.shape[1]),bins=50);\n",
    "\n",
    "# plt.hist(chm_nonzero_nonan_array.flatten(),50) \n",
    "plt.title('Distribution of SERC Non-Zero Canopy Height')\n",
    "plt.xlabel('Tree Height (m)'); plt.ylabel('Relative Frequency')\n",
    "# plt.xlim(0,25); plt.ylim(0,4000000)\n",
    "\n",
    "print('min:',np.amin(chm_nonzero_nonan_array),'m')\n",
    "print('max:',round(np.amax(chm_nonzero_nonan_array),2),'m')\n",
    "print('mean:',round(np.mean(chm_nonzero_nonan_array),2),'m')"
   ]
  },
  {
   "cell_type": "markdown",
   "metadata": {},
   "source": [
    "From the histogram we can see that the majority of the trees are < 45m. We can replot the CHM array, this time adjusting the color bar to better visualize the variation in canopy height. We will plot the non-zero array so that CHM=0 appears white. "
   ]
  },
  {
   "cell_type": "code",
   "execution_count": null,
   "metadata": {
    "collapsed": false
   },
   "outputs": [],
   "source": [
    "plot_band_array(chm_array,chm_ext,(0,45),title='SERC Canopy Height',cmap_title='Canopy Height, m',colormap='BuGn')"
   ]
  },
  {
   "cell_type": "markdown",
   "metadata": {},
   "source": [
    "### Create a ```raster2array``` function to automate conversion of Geotif to array:\n",
    "\n",
    "Now that we have a basic understanding of how GDAL reads in a Geotif file, we can write a function to read in a NEON geotif, convert it to a numpy array, and store the associated metadata in a Python dictionary in order to more efficiently carry out further analysis:"
   ]
  },
  {
   "cell_type": "code",
   "execution_count": null,
   "metadata": {
    "collapsed": true
   },
   "outputs": [],
   "source": [
    "# raster2array.py reads in the first band of geotif file and returns an array and associated \n",
    "# metadata dictionary\n",
    "\n",
    "from osgeo import gdal\n",
    "import numpy as np\n",
    "\n",
    "def raster2array(geotif_file):\n",
    "    metadata = {}\n",
    "    dataset = gdal.Open(geotif_file)\n",
    "    metadata['array_rows'] = dataset.RasterYSize\n",
    "    metadata['array_cols'] = dataset.RasterXSize\n",
    "    metadata['bands'] = dataset.RasterCount\n",
    "    metadata['driver'] = dataset.GetDriver().LongName\n",
    "    metadata['projection'] = dataset.GetProjection()\n",
    "    metadata['geotransform'] = dataset.GetGeoTransform()\n",
    "    \n",
    "    mapinfo = dataset.GetGeoTransform()\n",
    "    metadata['pixelWidth'] = mapinfo[1]\n",
    "    metadata['pixelHeight'] = mapinfo[5]\n",
    "\n",
    "    metadata['ext_dict'] = {}\n",
    "    metadata['ext_dict']['xMin'] = mapinfo[0]\n",
    "    metadata['ext_dict']['xMax'] = mapinfo[0] + dataset.RasterXSize/mapinfo[1]\n",
    "    metadata['ext_dict']['yMin'] = mapinfo[3] + dataset.RasterYSize/mapinfo[5]\n",
    "    metadata['ext_dict']['yMax'] = mapinfo[3]\n",
    "    \n",
    "    metadata['extent'] = (metadata['ext_dict']['xMin'],metadata['ext_dict']['xMax'],\n",
    "                          metadata['ext_dict']['yMin'],metadata['ext_dict']['yMax'])\n",
    "    \n",
    "    if metadata['bands'] == 1:\n",
    "        raster = dataset.GetRasterBand(1)\n",
    "        metadata['noDataValue'] = raster.GetNoDataValue()\n",
    "        metadata['scaleFactor'] = raster.GetScale()\n",
    "        \n",
    "        # band statistics\n",
    "        metadata['bandstats'] = {} #make a nested dictionary to store band stats in same \n",
    "        stats = raster.GetStatistics(True,True)\n",
    "        metadata['bandstats']['min'] = round(stats[0],2)\n",
    "        metadata['bandstats']['max'] = round(stats[1],2)\n",
    "        metadata['bandstats']['mean'] = round(stats[2],2)\n",
    "        metadata['bandstats']['stdev'] = round(stats[3],2)\n",
    "        \n",
    "        array = dataset.GetRasterBand(1).ReadAsArray(0,0,metadata['array_cols'],metadata['array_rows']).astype(np.float)\n",
    "        array[array==int(metadata['noDataValue'])]=np.nan\n",
    "        array = array/metadata['scaleFactor']\n",
    "        return array, metadata\n",
    "    \n",
    "    elif metadata['bands'] > 1:\n",
    "        print('More than one band ... need to modify function for case of multiple bands')"
   ]
  },
  {
   "cell_type": "code",
   "execution_count": null,
   "metadata": {
    "collapsed": false
   },
   "outputs": [],
   "source": [
    "SERC_chm_array, SERC_chm_metadata = raster2array('../data/SERC/lidar/SERC_CHM.tif')\n",
    "\n",
    "print('SERC CHM Array:\\n',SERC_chm_array)\n",
    "\n",
    "#print metadata in alphabetical order\n",
    "for item in sorted(SERC_chm_metadata):\n",
    "    print(item + ':', SERC_chm_metadata[item])"
   ]
  },
  {
   "cell_type": "markdown",
   "metadata": {},
   "source": [
    "## Threshold Based Raster Classification\n",
    "Next, we will create a classified raster object. To do this, we will use the se the numpy.where function to create a new raster based off boolean classifications. Let's classify the canopy height into four groups:\n",
    "- Class 1: **CHM = 0 m** \n",
    "- Class 2: **0m < CHM <= 20m**\n",
    "- Class 3: **20m < CHM <= 40m**\n",
    "- Class 4: **CHM > 40m**"
   ]
  },
  {
   "cell_type": "code",
   "execution_count": null,
   "metadata": {
    "collapsed": false
   },
   "outputs": [],
   "source": [
    "chm_reclass = copy.copy(chm_array)\n",
    "chm_reclass[np.where(chm_array==0)] = 1 # CHM = 0 : Class 1\n",
    "chm_reclass[np.where((chm_array>0) & (chm_array<=20))] = 2 # 0m < CHM <= 20m - Class 2\n",
    "chm_reclass[np.where((chm_array>20) & (chm_array<=40))] = 3 # 20m < CHM < 40m - Class 3\n",
    "chm_reclass[np.where(chm_array>40)] = 4 # CHM > 40m - Class 4\n",
    "\n",
    "print('Min:',np.nanmin(chm_reclass))\n",
    "print('Max:',np.nanmax(chm_reclass))\n",
    "print('Mean:',round(np.nanmean(chm_reclass),2))\n",
    "\n",
    "import matplotlib.colors as colors\n",
    "plt.figure(); #ax = plt.subplots()\n",
    "cmapCHM = colors.ListedColormap(['lightblue','yellow','green','red'])\n",
    "plt.imshow(chm_reclass,extent=chm_ext,cmap=cmapCHM)\n",
    "plt.title('SERC CHM Classification')\n",
    "ax=plt.gca(); ax.ticklabel_format(useOffset=False, style='plain') #do not use scientific notation \n",
    "rotatexlabels = plt.setp(ax.get_xticklabels(),rotation=90) #rotate x tick labels 90 degrees\n",
    "# forceAspect(ax,aspect=1) # ax.set_aspect('auto')\n",
    "\n",
    "# Create custom legend to label the four canopy height classes:\n",
    "import matplotlib.patches as mpatches\n",
    "class1_box = mpatches.Patch(color='lightblue', label='CHM = 0m')\n",
    "class2_box = mpatches.Patch(color='yellow', label='0m < CHM < 20m')\n",
    "class3_box = mpatches.Patch(color='green', label='20m < CHM < 40m')\n",
    "class4_box = mpatches.Patch(color='red', label='CHM > 40m')\n",
    "\n",
    "ax.legend(handles=[class1_box,class2_box,class3_box,class4_box],\n",
    "          handlelength=0.7,bbox_to_anchor=(1.05, 0.4),loc='lower left',borderaxespad=0.)"
   ]
  },
  {
   "cell_type": "markdown",
   "metadata": {},
   "source": [
    "## Challenge 1: Document Your Workflow \n",
    "1. Look at the code that you created for this lesson. Now imagine yourself months in the future. Document your script so that your methods and process is clear and reproducible for yourself or others to follow in the future. \n",
    "2. In documenting your script, synthesize the outputs. Do they tell you anything about the vegetation structure at the field site? \n",
    "\n",
    "## Challenge 2: Try out other Classifications\n",
    "Create the following threshold classified outputs:\n",
    "1. A raster where NDVI values are classified into the following categories:\n",
    "    * Low greenness: NDVI < 0.3\n",
    "    * Medium greenness: 0.3 < NDVI < 0.6\n",
    "    * High greenness: NDVI > 0.6\n",
    "2. A raster where aspect is classified into North and South facing slopes: \n",
    "\n",
    "Be sure to document your workflow as you go using Jupyter Markdown cells. When you are finished, explore your outputs to HTML  by selecting File > Download As > HTML (.html). Save the file as LastName_Tues_classifyThreshold.html. Add this to the Tuesday directory in your DI17-NEON-participants Git directory and push them to your fork in GitHub. Merge with the central repository using a pull request. "
   ]
  },
  {
   "cell_type": "markdown",
   "metadata": {},
   "source": [
    "## Aspect Raster Classification on TEAK Dataset (California)\n",
    "\n",
    "Next, we will create a classified raster object based on slope using the TEAK dataset. This time, our classifications will be:\n",
    "- **North Facing Slopes**: 0-45 & 315-360 degrees ; class=1\n",
    "- **South Facing Slopes**: 135-225 degrees ; class=2\n",
    "- **East & West Facing Slopes**: 45-135 & 225-315 degrees ; unclassified\n",
    "\n",
    "<p>\n",
    "<img src=\"files/NSEW_Classification.jpg\" style=\"width: 250px;\"/>\n",
    "<center><font size=\"2\">Figure: (Boz et al. 2015)</font></center>\n",
    "<center><font size=\"2\">http://www.aimspress.com/article/10.3934/energy.2015.3.401/fulltext.html</font></center>\n",
    "</p>\n",
    "\n",
    "**Further Reading:** There are a range of applications for aspect classificaiton. The link above shows an example of classifying LiDAR aspect data to determine suitability of roofs for PV (photovoltaic) systems. Can you think of any other applications where aspect classification might be useful?\n",
    "\n",
    "**Data Tip:** You can calculate aspect in Python from a digital elevation (or surface) model using the pyDEM package: https://earthlab.github.io/tutorials/get-slope-aspect-from-digital-elevation-model/\n",
    "\n",
    "**Let's get started.** First we can import the TEAK aspect raster geotif and convert it to an array using the ```raster2array``` function:"
   ]
  },
  {
   "cell_type": "code",
   "execution_count": null,
   "metadata": {
    "collapsed": false
   },
   "outputs": [],
   "source": [
    "TEAK_aspect_tif = '../data/TEAK/lidar/2013_TEAK_1_326000_4103000_DTM_aspect.tif'\n",
    "TEAK_asp_array, TEAK_asp_metadata = raster2array(TEAK_aspect_tif)\n",
    "\n",
    "#print metadata in alphabetical order\n",
    "for item in sorted(TEAK_asp_metadata):\n",
    "    print(item + ':', TEAK_asp_metadata[item])\n",
    "\n",
    "plot_band_array(TEAK_asp_array,TEAK_asp_metadata['extent'],(0,360),title='TEAK Aspect',cmap_title='Aspect, deg')"
   ]
  },
  {
   "cell_type": "code",
   "execution_count": null,
   "metadata": {
    "collapsed": false
   },
   "outputs": [],
   "source": [
    "aspect_array = copy.copy(TEAK_asp_array)\n",
    "asp_reclass = copy.copy(aspect_array)\n",
    "asp_reclass[np.where(((aspect_array>=0) & (aspect_array<=45)) | (aspect_array>=315))] = 1 #North - Class 1\n",
    "asp_reclass[np.where((aspect_array>=135) & (aspect_array<=225))] = 2 #South - Class 2\n",
    "asp_reclass[np.where(((aspect_array>45) & (aspect_array<135)) | ((aspect_array>225) & (aspect_array<315)))] = np.nan #W & E - Unclassified\n",
    "\n",
    "print('Min:',np.nanmin(asp_reclass))\n",
    "print('Max:',np.nanmax(asp_reclass))\n",
    "print('Mean:',round(np.nanmean(asp_reclass),2))\n",
    "\n",
    "# Scale plot \n",
    "def forceAspect(ax,aspect=1):\n",
    "    im = ax.get_images()\n",
    "    extent =  im[0].get_extent()\n",
    "    ax.set_aspect(abs((extent[1]-extent[0])/(extent[3]-extent[2]))/aspect)\n",
    "\n",
    "# plot_band_array(aspect_reclassified,asp_ext,'North and South Facing Slopes \\n TEAK')\n",
    "from matplotlib import colors\n",
    "fig, ax = plt.subplots()\n",
    "cmapNS = colors.ListedColormap(['blue','red'])\n",
    "plt.imshow(asp_reclass,extent=TEAK_asp_metadata['extent'],cmap=cmapNS)\n",
    "plt.title('TEAK \\n N and S Facing Slopes')\n",
    "ax=plt.gca(); ax.ticklabel_format(useOffset=False, style='plain') #do not use scientific notation \n",
    "rotatexlabels = plt.setp(ax.get_xticklabels(),rotation=90) #rotate x tick labels 90 degrees\n",
    "ax = plt.gca(); forceAspect(ax,aspect=1)\n",
    "\n",
    "# Create custom legend to label N & S\n",
    "import matplotlib.patches as mpatches\n",
    "blue_box = mpatches.Patch(color='blue', label='North')\n",
    "red_box = mpatches.Patch(color='red', label='South')\n",
    "ax.legend(handles=[blue_box,red_box],handlelength=0.7,bbox_to_anchor=(1.05, 0.45), \n",
    "          loc='lower left', borderaxespad=0.)"
   ]
  },
  {
   "cell_type": "code",
   "execution_count": null,
   "metadata": {
    "collapsed": false
   },
   "outputs": [],
   "source": [
    "# file_attrs_string_split = file_attrs_string.split(\"'\")\n",
    "TEAK_proj_str_split = TEAK_asp_metadata['projection'].split(\",\")\n",
    "print(TEAK_proj_str_split[-1:])"
   ]
  },
  {
   "cell_type": "code",
   "execution_count": null,
   "metadata": {
    "collapsed": true
   },
   "outputs": [],
   "source": [
    "import gdal, osr #ogr, os, osr\n",
    "import numpy as np\n",
    "\n",
    "def array2raster(newRasterfn,rasterOrigin,pixelWidth,pixelHeight,array,epsg):\n",
    "\n",
    "    cols = array.shape[1]\n",
    "    rows = array.shape[0]\n",
    "    originX = rasterOrigin[0]\n",
    "    originY = rasterOrigin[1]\n",
    "\n",
    "    driver = gdal.GetDriverByName('GTiff')\n",
    "    outRaster = driver.Create(newRasterfn, cols, rows, 1, gdal.GDT_Byte)\n",
    "    outRaster.SetGeoTransform((originX, pixelWidth, 0, originY, 0, pixelHeight))\n",
    "    outband = outRaster.GetRasterBand(1)\n",
    "    outband.WriteArray(array)\n",
    "    outRasterSRS = osr.SpatialReference()\n",
    "    outRasterSRS.ImportFromEPSG(epsg)\n",
    "    outRaster.SetProjection(outRasterSRS.ExportToWkt())\n",
    "    outband.FlushCache()"
   ]
  },
  {
   "cell_type": "code",
   "execution_count": null,
   "metadata": {
    "collapsed": false
   },
   "outputs": [],
   "source": [
    "# array2raster('./Outputs/SERC_CHM_Classified.tif',rasterOrigin,1,-1,chm_reclass,epsg)\n",
    "rasterOrigin = [326000.0, 4104000.0]\n",
    "array2raster('./Outputs/TEAK_NS_Classification.tif',rasterOrigin,1,-1,asp_reclass,32611)"
   ]
  },
  {
   "cell_type": "markdown",
   "metadata": {},
   "source": [
    "# Practice Exercise: On Your Own\n",
    "## Add docstrings to the neon_aop_lidar_raster_functions.py module. \n",
    "1. Include a description of the module and a list of the functions it contains. \n",
    "2. Include the following information for each function. (Refer to https://www.python.org/dev/peps/pep-0257/ for docstring conventions)\n",
    "    - description of the function\n",
    "    - Parameters (inputs)\n",
    "    - Returns (outputs)\n",
    "    - See Also (list & briefly describe related functions)\n",
    "    - Notes\n",
    "    - Examples (how to execute the function)\n",
    "\n",
    "Data Tips:\n",
    "1. Use triple parentheses to start and end a doc string (`''' docstring '''`)\n",
    "2. Save the updated commented module to a python .py file from Jupyter using the magic command: %%writefile neon_aop_lidar_raster_functions.py. Alternately, you can copy it into Notepad or Spyder and save it as a .py file. \n",
    "3. Once saved & re-loaded, use the help(function) or function? to view the docstrings you wrote. "
   ]
  },
  {
   "cell_type": "markdown",
   "metadata": {},
   "source": [
    "## References \n",
    "\n",
    "Bayrakci Boz, M.; Calvert, K.; Brownson, J.R.S. An automated model for rooftop PV systems assessment in ArcGIS using LIDAR. AIMS Energy 2015, 3, 401–420."
   ]
  }
 ],
 "metadata": {
  "kernelspec": {
   "display_name": "Python 3",
   "language": "python",
   "name": "python3"
  },
  "language_info": {
   "codemirror_mode": {
    "name": "ipython",
    "version": 3
   },
   "file_extension": ".py",
   "mimetype": "text/x-python",
   "name": "python",
   "nbconvert_exporter": "python",
   "pygments_lexer": "ipython3",
   "version": "3.4.5"
  }
 },
 "nbformat": 4,
 "nbformat_minor": 0
}
