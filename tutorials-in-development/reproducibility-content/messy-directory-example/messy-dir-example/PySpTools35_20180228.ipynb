{
 "cells": [
  {
   "cell_type": "code",
   "execution_count": 1,
   "metadata": {},
   "outputs": [],
   "source": [
    "import os\n",
    "import time\n",
    "import numpy as np\n",
    "import pysptools.util as util\n",
    "import pysptools.eea as eea #endmembers extraction algorithms\n",
    "import pysptools.abundance_maps as amap\n",
    "import pysptools.classification as cls\n",
    "import pysptools.material_count as cnt"
   ]
  },
  {
   "cell_type": "code",
   "execution_count": 2,
   "metadata": {
    "scrolled": true
   },
   "outputs": [
    {
     "name": "stdout",
     "output_type": "stream",
     "text": [
      "SERC Data Header: C:\\Users\\bhass\\Desktop\\RSDI\\RSDI_2018\\NEON_D02_SERC_DP3_368000_4306000_reflectance.hdr\n",
      "Data took  27.226665496826172  seconds to load.\n"
     ]
    }
   ],
   "source": [
    "load_start_time = time.time()\n",
    "data_path = os.getcwd()\n",
    "header_file = 'NEON_D02_SERC_DP3_368000_4306000_reflectance.hdr'\n",
    "data_file = os.path.join(data_path,header_file)\n",
    "print('SERC Data Header:',data_file)\n",
    "data,header = util.load_ENVI_file(data_file)\n",
    "print('Data took ', time.time() - load_start_time, ' seconds to load.')"
   ]
  },
  {
   "cell_type": "code",
   "execution_count": 3,
   "metadata": {},
   "outputs": [
    {
     "name": "stdout",
     "output_type": "stream",
     "text": [
      "bands\n",
      "byte order\n",
      "coordinate system string\n",
      "data ignore value\n",
      "data type\n",
      "dataset names\n",
      "description\n",
      "file type\n",
      "fwhm\n",
      "header offset\n",
      "interleave\n",
      "lines\n",
      "map info\n",
      "reflectance scale factor\n",
      "samples\n",
      "wavelength\n",
      "wavelength units\n"
     ]
    }
   ],
   "source": [
    "for key in sorted(header.keys()):\n",
    "  print(key)"
   ]
  },
  {
   "cell_type": "code",
   "execution_count": 4,
   "metadata": {},
   "outputs": [
    {
     "name": "stdout",
     "output_type": "stream",
     "text": [
      "Wavelengths Removed:\n",
      "1340.044434 - 1445.210449 nm\n",
      "1790.755981 - 1956.016846 nm\n",
      "2466.823486 - 2511.894531 nm\n",
      "\n",
      "Wavelengths Kept:\n",
      "383.534302 - 1335.036499 nm\n",
      "1450.218384 - 1790.755981 nm\n",
      "1961.024902 - 2461.815430 nm\n"
     ]
    }
   ],
   "source": [
    "def remove_bands(M):\n",
    "    \"\"\"Remove bands with atmospheric scattering.\n",
    "    Water vapor bands: \n",
    "        Band_Window_1_Nanometers = 1340,1445\n",
    "        Band_Window_2_Nanometers = 1790,1955\n",
    "    [191:212] -> 1340.04 -1445.21 nm\n",
    "    [281:314] -> 1790.76 - 1956.02 nm \n",
    "    [416:425] -> 2466.82 - 2511.89 nm\"\"\"\n",
    "    \n",
    "    #Valid bands: range(0,191), range(212, 281), range(315,415)\n",
    "    \n",
    "    vb1 = list(range(0,190)); \n",
    "    vb2 = list(range(213,281))\n",
    "    vb3 = list(range(315,415))\n",
    "    Mp = M[:,:,vb1+vb2+vb3]\n",
    "    return Mp\n",
    "\n",
    "#Display wavelengths corresponding to bands removed:\n",
    "print('Wavelengths Removed:')\n",
    "print(header['wavelength'][191],'-',header['wavelength'][212],'nm')\n",
    "print(header['wavelength'][281],'-',header['wavelength'][314],'nm')\n",
    "print(header['wavelength'][416],'-',header['wavelength'][425],'nm')\n",
    "\n",
    "#Display wavelengths corresponding to bands kept:\n",
    "print('\\nWavelengths Kept:')\n",
    "print(header['wavelength'][0],'-',header['wavelength'][190],'nm')\n",
    "print(header['wavelength'][213],'-',header['wavelength'][280],'nm')\n",
    "print(header['wavelength'][315],'-',header['wavelength'][415],'nm')"
   ]
  },
  {
   "cell_type": "code",
   "execution_count": 5,
   "metadata": {},
   "outputs": [
    {
     "name": "stdout",
     "output_type": "stream",
     "text": [
      "Raw Data Dimensions: (1000, 1000, 426)\n",
      "Cleaned Data Dimensions: (1000, 1000, 358)\n"
     ]
    }
   ],
   "source": [
    "print('Raw Data Dimensions:',data.shape)\n",
    "#remove bad bands\n",
    "data_clean = remove_bands(data)\n",
    "print('Cleaned Data Dimensions:',data_clean.shape)"
   ]
  },
  {
   "cell_type": "code",
   "execution_count": null,
   "metadata": {},
   "outputs": [],
   "source": [
    "#adjust number of bands\n",
    "wavelength_center_bands = np.array(list(map(float, header['wavelength'])))\n",
    "print('total # of bands:',len(wavelength_center_bands))\n",
    "wavelength_center_bands_valid = wavelength_center_bands[np.r_[0:190,213:281,315:415]]\n",
    "print('total # of valid bands:',len(wavelength_center_bands_valid))"
   ]
  },
  {
   "cell_type": "code",
   "execution_count": null,
   "metadata": {},
   "outputs": [],
   "source": [
    "#remove bad bands in the header wavelengths\n",
    "valid_band_range = [i for j in (range(0,190), range(213, 281), range(315,415)) for i in j]\n",
    "header['wavelength'] = [header['wavelength'][i] for i in valid_band_range]\n",
    "#len(header['wavelength'])"
   ]
  },
  {
   "cell_type": "code",
   "execution_count": null,
   "metadata": {},
   "outputs": [],
   "source": [
    "print(header['map info'])"
   ]
  },
  {
   "cell_type": "code",
   "execution_count": null,
   "metadata": {},
   "outputs": [],
   "source": [
    "#Extract Spatial Extent (UTM)\n",
    "xmin = float(header['map info'][3]); \n",
    "ymax = float(header['map info'][4]); \n",
    "xmax = xmin + 1000;\n",
    "ymin = ymax - 1000;\n",
    "\n",
    "print('xmin:',xmin)\n",
    "print('xmax:',xmax)\n",
    "print('ymin:',ymin)\n",
    "print('ymax:',ymax)"
   ]
  },
  {
   "cell_type": "code",
   "execution_count": null,
   "metadata": {},
   "outputs": [],
   "source": [
    "#Display linearly stretched RGB image of the SERC tile\n",
    "#type(data_clean)\n",
    "#util.display_linear_stretch(data_clean,58,34,19,suffix='SERC')\n",
    "#wavelength_center_bands_valid\n",
    "#display(data_clean[:,:,34])"
   ]
  },
  {
   "cell_type": "markdown",
   "metadata": {},
   "source": [
    "**Spectral Unmixing** allows pixels to be composed of fractions or abundances of each class. \n",
    "\n",
    "**Endmembers** can be thought of as the basis spectra of an image. Once these endmember spectra are determined, the image cube can be 'unmixed' into the fractional abundance of each material in each pixel (Winter, 1999)."
   ]
  },
  {
   "cell_type": "code",
   "execution_count": null,
   "metadata": {},
   "outputs": [],
   "source": [
    "#ee.display?\n",
    "wavelength_float = [float(i) for i in header['wavelength']]\n",
    "ee_axes = {}\n",
    "ee_axes['wavelength'] = wavelength_float\n",
    "ee_axes['x']='Wavelength, nm'\n",
    "ee_axes['y']='Reflectance'"
   ]
  },
  {
   "cell_type": "markdown",
   "metadata": {},
   "source": [
    "#create dictionary from header['wavelength'] list in order to plot using ee.display\n",
    "ee_axes = {}\n",
    "ee_axes['wavelength'] = {k: v for v,k in enumerate(header['wavelength'])}\n",
    "ee_axes['x']='Wavelength, nm'\n",
    "ee_axes['y']='Reflectance'"
   ]
  },
  {
   "cell_type": "code",
   "execution_count": null,
   "metadata": {},
   "outputs": [],
   "source": [
    "#Endmember Extraction (Unmixing) - NFINDR Algorithm (Winter, 1999)\n",
    "ee_start_time = time.time()\n",
    "ee = eea.NFINDR()\n",
    "U = ee.extract(data_clean,4,maxit=5,normalize=False,ATGP_init=True)\n",
    "ee.display(axes=ee_axes,suffix='SERC')\n",
    "print('Endmember extraction took ', time.time() - ee_start_time, ' seconds to run.')"
   ]
  },
  {
   "cell_type": "code",
   "execution_count": null,
   "metadata": {},
   "outputs": [],
   "source": [
    "#Abundance Maps\n",
    "amap_start_time = time.time()\n",
    "am = amap.FCLS()\n",
    "amaps = am.map(data_clean,U,normalize=False)\n",
    "am.display(colorMap='jet',columns=4,suffix='SERC')\n",
    "print('Abundance maps took ', time.time() - amap_start_time, ' seconds to generate.')"
   ]
  },
  {
   "cell_type": "code",
   "execution_count": null,
   "metadata": {},
   "outputs": [],
   "source": [
    "#Print mean values of each abundance map to better estimate thresholds\n",
    "print('Abundance Map Mean Values:')\n",
    "print('EM1:',np.mean(amaps[:,:,0]))\n",
    "print('EM2:',np.mean(amaps[:,:,1]))\n",
    "print('EM3:',np.mean(amaps[:,:,2]))\n",
    "print('EM4:',np.mean(amaps[:,:,3]))\n",
    "#print('EM5:',np.mean(amaps[:,:,4]))\n",
    "#print('EM6:',np.mean(amaps[:,:,5]))\n",
    "#print('EM7:',np.mean(amaps[:,:,6]))\n",
    "#print('EM8:',np.mean(amaps[:,:,7]))\n",
    "#print('EM9:',np.mean(amaps[:,:,8]))\n",
    "#print('EM10:',np.mean(amaps[:,:,9]))"
   ]
  },
  {
   "cell_type": "code",
   "execution_count": null,
   "metadata": {},
   "outputs": [],
   "source": [
    "#Look at histogram of each abundance map to determine ballpark for thresholds to use\n",
    "import matplotlib.pyplot as plt\n",
    "fig = plt.figure(figsize=(18,8))\n",
    "\n",
    "ax1 = fig.add_subplot(2,4,1); plt.title('EM1')\n",
    "amap1_hist = plt.hist(np.ndarray.flatten(amaps[:,:,0]),bins=50,range=[0,1.0]) \n",
    "\n",
    "ax2 = fig.add_subplot(2,4,2); plt.title('EM2')\n",
    "amap1_hist = plt.hist(np.ndarray.flatten(amaps[:,:,1]),bins=50,range=[0,0.001]) \n",
    "\n",
    "ax3 = fig.add_subplot(2,4,3); plt.title('EM3')\n",
    "amap1_hist = plt.hist(np.ndarray.flatten(amaps[:,:,2]),bins=50,range=[0,0.05]) \n",
    "\n",
    "ax4 = fig.add_subplot(2,4,4); plt.title('EM4')\n",
    "amap1_hist = plt.hist(np.ndarray.flatten(amaps[:,:,3]),bins=50,range=[0,1.0]) "
   ]
  },
  {
   "cell_type": "code",
   "execution_count": null,
   "metadata": {},
   "outputs": [],
   "source": [
    "ax5 = fig.add_subplot(2,4,5); plt.title('EM5')\n",
    "amap1_hist = plt.hist(np.ndarray.flatten(amaps[:,:,4]),bins=50,range=[0,0.01]) \n",
    "\n",
    "ax6 = fig.add_subplot(2,4,6); plt.title('EM6')\n",
    "amap1_hist = plt.hist(np.ndarray.flatten(amaps[:,:,5]),bins=50,range=[0,0.05]) \n",
    "\n",
    "ax7 = fig.add_subplot(2,4,7); plt.title('EM7')\n",
    "amap1_hist = plt.hist(np.ndarray.flatten(amaps[:,:,6]),bins=50,range=[0,0.00001]) \n",
    "\n",
    "ax8 = fig.add_subplot(2,4,8); plt.title('EM8')\n",
    "amap1_hist = plt.hist(np.ndarray.flatten(amaps[:,:,7]),bins=50,range=[0,0.0001]) "
   ]
  },
  {
   "cell_type": "code",
   "execution_count": null,
   "metadata": {},
   "outputs": [],
   "source": [
    "#Create functions to compute and display SAM and SID \n",
    "\n",
    "#Spectral Angle Mapper\n",
    "def SAM(data,E,thrs=None):\n",
    "    sam = cls.SAM()\n",
    "    cmap = sam.classify(data,E,threshold=thrs)\n",
    "    sam.display(colorMap='Paired',suffix='SERC')\n",
    "\n",
    "#Spectral Information Divergence\n",
    "def SID(data,E,thrs=None):\n",
    "    sid = cls.SID()\n",
    "    cmap = sid.classify(data,E,threshold=thrs)\n",
    "    sid.display(colorMap='tab20b',suffix='SERC')"
   ]
  },
  {
   "cell_type": "code",
   "execution_count": null,
   "metadata": {},
   "outputs": [],
   "source": [
    "U2 = U[[0,1,2],:]"
   ]
  },
  {
   "cell_type": "code",
   "execution_count": null,
   "metadata": {},
   "outputs": [],
   "source": [
    "SID(data_clean, U2, [0.8,0.3,0.4])"
   ]
  },
  {
   "cell_type": "code",
   "execution_count": null,
   "metadata": {},
   "outputs": [],
   "source": [
    "U3 = U[[0,2,3],:]\n",
    "SID(data_clean, U3, [0.4,0.5,0.03])"
   ]
  },
  {
   "cell_type": "code",
   "execution_count": null,
   "metadata": {},
   "outputs": [],
   "source": [
    "def display(image,plot_title=''):\n",
    "    import matplotlib.pyplot as plt\n",
    "    img = plt.imshow(image,extent=[xmin,xmax,ymin,ymax])\n",
    "    img.set_cmap('gray')\n",
    "    ax=plt.gca()\n",
    "    plt.setp(ax.get_xticklabels(),rotation=90); #rotate x tick labels 90 degrees\n",
    "    plt.title(plot_title)\n",
    "    plt.show()\n",
    "    plt.clf()"
   ]
  },
  {
   "cell_type": "code",
   "execution_count": null,
   "metadata": {},
   "outputs": [],
   "source": [
    "#man_made = (amaps[:,:,1]>0.10)+(amaps[:,:,2]>0.10)+(amaps[:,:,3]>0.6)\n",
    "#display(man_made)\n",
    "#display((amaps[:,:,5]>0.1))\n",
    "display((amaps[:,:,2]>0.035))\n",
    "#display((amaps[:,:,2]>0.03)+(amaps[:,:,5]>0.05),'SERC Roads and Buildings')"
   ]
  },
  {
   "cell_type": "code",
   "execution_count": null,
   "metadata": {},
   "outputs": [],
   "source": [
    "#Display USA Topo Base Map\n",
    "#Reference: https://viewer.nationalmap.gov/\n",
    "from IPython.core.display import Image\n",
    "UStopo_filename = 'SERC_368000_4307000_UStopo.PNG'\n",
    "UStopo_image = os.path.join(data_path,UStopo_filename)\n",
    "print('Base Map')\n",
    "Image(filename=UStopo_image,width=225,height=225)"
   ]
  },
  {
   "cell_type": "markdown",
   "metadata": {},
   "source": [
    "## STOP HERE"
   ]
  },
  {
   "cell_type": "code",
   "execution_count": null,
   "metadata": {},
   "outputs": [],
   "source": [
    "# U2 is a library made of 4 selected endmembers\n",
    "SAM(data_clean, U2, [0.6,0.02,0.02,0.5])"
   ]
  },
  {
   "cell_type": "code",
   "execution_count": null,
   "metadata": {},
   "outputs": [],
   "source": [
    "# Try another combination of 6 endmembers (adding 9)\n",
    "U2 = U[[1,2,3,4,5,8],:]\n",
    "SAM(data_clean, U2, [0.5,0.5,0.1,0.5,0.5,0.5])\n",
    "SID(data_clean, U2, [0.5,0.5,0.05,0.5,0.3,0.5])"
   ]
  },
  {
   "cell_type": "code",
   "execution_count": null,
   "metadata": {},
   "outputs": [],
   "source": [
    "U2 = U[[3,4,5,8],:]\n",
    "SID(data_clean, U2, [0.1,0.5,0.5,0.5])"
   ]
  },
  {
   "cell_type": "code",
   "execution_count": null,
   "metadata": {},
   "outputs": [],
   "source": [
    "# Try with just 3 endmembers\n",
    "U2 = U[[3,4,5,8],:]\n",
    "SAM(data_clean, U2, [0.5,0.1,0.5,0.5])"
   ]
  },
  {
   "cell_type": "code",
   "execution_count": null,
   "metadata": {},
   "outputs": [],
   "source": [
    "##Package Installation (Can also install required packages from command line - activate py35 env first)\n",
    "#https://stackoverflow.com/questions/45156080/installing-modules-to-anaconda-from-tar-gz\n",
    "#import sys\n",
    "#!{sys.executable} -m pip install spectral\n",
    "#!{sys.executable} -m pip install \"C:\\Users\\bhass\\Downloads\\pysptools-0.14.2.tar.gz\n",
    "#!conda install --yes --prefix {sys.prefix} numpy\n",
    "#!conda install --yes --prefix {sys.prefix} matplotlib\n",
    "#!conda install --yes --prefix {sys.prefix} scikit-learn\n",
    "#!conda install --yes --prefix {sys.prefix} cvxopt"
   ]
  },
  {
   "cell_type": "markdown",
   "metadata": {},
   "source": [
    "#Look at histogram of each abundance map to determine ballpark for thresholds to use\n",
    "import matplotlib.pyplot as plt\n",
    "fig = plt.figure(figsize=(18,8))\n",
    "\n",
    "ax1 = fig.add_subplot(2,5,1); plt.title('EM1')\n",
    "amap1_hist = plt.hist(np.ndarray.flatten(amaps[:,:,0]),bins=50,range=[0,0.25]) \n",
    "\n",
    "ax2 = fig.add_subplot(2,5,2); plt.title('EM2')\n",
    "amap1_hist = plt.hist(np.ndarray.flatten(amaps[:,:,1]),bins=50,range=[0,0.1]) \n",
    "\n",
    "ax3 = fig.add_subplot(2,5,3); plt.title('EM3')\n",
    "amap1_hist = plt.hist(np.ndarray.flatten(amaps[:,:,2]),bins=50,range=[0,0.02]) \n",
    "\n",
    "ax4 = fig.add_subplot(2,5,4); plt.title('EM4')\n",
    "amap1_hist = plt.hist(np.ndarray.flatten(amaps[:,:,3]),bins=50,range=[0,1.0]) \n",
    "\n",
    "ax5 = fig.add_subplot(2,5,5); plt.title('EM5')\n",
    "amap1_hist = plt.hist(np.ndarray.flatten(amaps[:,:,4]),bins=50,range=[0,0.001]) \n",
    "\n",
    "ax6 = fig.add_subplot(2,5,6); plt.title('EM6')\n",
    "amap1_hist = plt.hist(np.ndarray.flatten(amaps[:,:,5]),bins=50,range=[0,0.001]) \n",
    "\n",
    "ax7 = fig.add_subplot(2,5,7); plt.title('EM7')\n",
    "amap1_hist = plt.hist(np.ndarray.flatten(amaps[:,:,6]),bins=50,range=[0,1.0]) \n",
    "\n",
    "ax8 = fig.add_subplot(2,5,8); plt.title('EM8')\n",
    "amap1_hist = plt.hist(np.ndarray.flatten(amaps[:,:,7]),bins=50,range=[0,0.0001]) \n",
    "\n",
    "ax9 = fig.add_subplot(2,5,9); plt.title('EM9')\n",
    "amap1_hist = plt.hist(np.ndarray.flatten(amaps[:,:,8]),bins=50,range=[0,0.01]) \n",
    "\n",
    "ax10 = fig.add_subplot(2,5,10); plt.title('EM10')\n",
    "amap1_hist = plt.hist(np.ndarray.flatten(amaps[:,:,9]),bins=50,range=[0,0.001]) "
   ]
  }
 ],
 "metadata": {
  "kernelspec": {
   "display_name": "Python [conda env:py35]",
   "language": "python",
   "name": "conda-env-py35-py"
  },
  "language_info": {
   "codemirror_mode": {
    "name": "ipython",
    "version": 3
   },
   "file_extension": ".py",
   "mimetype": "text/x-python",
   "name": "python",
   "nbconvert_exporter": "python",
   "pygments_lexer": "ipython3",
   "version": "3.5.4"
  }
 },
 "nbformat": 4,
 "nbformat_minor": 2
}
