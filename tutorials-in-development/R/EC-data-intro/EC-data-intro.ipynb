{
 "cells": [
  {
   "cell_type": "markdown",
   "metadata": {},
   "source": [
    "# Introduction to working with NEON eddy flux data"
   ]
  },
  {
   "cell_type": "markdown",
   "metadata": {},
   "source": [
    "This data tutorial provides an introduction to working with NEON eddy \n",
    "flux data, using the `neonUtilities` R package. If you are new to NEON \n",
    "data, we recommend starting with a more general tutorial, such as the \n",
    "<a href=\"https://www.neonscience.org/neonDataStackR\" target=\"_blank\">neonUtilities tutorial</a> \n",
    "or the <a href=\"https://www.neonscience.org/download-explore-neon-data\" target=\"_blank\">Download and Explore tutorial</a>. \n",
    "Some of the functions and techniques described in those tutorials will \n",
    "be used here, as well as functions and data formats that are unique to \n",
    "the eddy flux system.\n",
    "\n",
    "This tutorial assumes general familiarity with eddy flux data and \n",
    "associated concepts."
   ]
  },
  {
   "cell_type": "markdown",
   "metadata": {},
   "source": [
    "## 1. Setup\n",
    "\n",
    "Start by installing and loading packages and setting options."
   ]
  },
  {
   "cell_type": "code",
   "execution_count": null,
   "metadata": {},
   "outputs": [],
   "source": [
    "install.packages('neonUtilities')"
   ]
  },
  {
   "cell_type": "code",
   "execution_count": 1,
   "metadata": {},
   "outputs": [],
   "source": [
    "options(stringsAsFactors=F, warn=-1)\n",
    "\n",
    "library(neonUtilities)"
   ]
  },
  {
   "cell_type": "markdown",
   "metadata": {},
   "source": [
    "Use the `zipsByProduct()` function from the `neonUtilities` package to \n",
    "download flux data from two sites and two months. The transformations \n",
    "and functions below will work on any time range and site(s), but two \n",
    "sites and two months allows us to see all the available functionality \n",
    "while minimizing download size.\n",
    "\n",
    "Inputs to the `zipsByProduct()` function:\n",
    "\n",
    "* `dpID`: DP4.00200.001, the bundled eddy covariance product\n",
    "* `package`: basic (the expanded package is not covered in this tutorial)\n",
    "* `site`: NIWO = Niwot Ridge and HARV = Harvard Forest\n",
    "* `startdate`: 2018-06 (both dates are inclusive)\n",
    "* `enddate`: 2018-07 (both dates are inclusive)\n",
    "* `savepath`: modify this to something logical on your machine\n",
    "* `check.size`: T if you want to see file size before downloading, otherwise F\n",
    "\n",
    "The download may take a while, especially if you're on a slow network."
   ]
  },
  {
   "cell_type": "code",
   "execution_count": null,
   "metadata": {},
   "outputs": [],
   "source": [
    "zipsByProduct(dpID=\"DP4.00200.001\", package=\"basic\", \n",
    "              site=c(\"NIWO\", \"HARV\"), \n",
    "              startdate=\"2018-06\", enddate=\"2018-07\",\n",
    "              savepath=\"/Users/clunch/Desktop\", \n",
    "              check.size=F)"
   ]
  },
  {
   "cell_type": "markdown",
   "metadata": {},
   "source": [
    "## 2. Data Levels\n",
    "\n",
    "There are five levels of data contained in the eddy flux bundle. For full \n",
    "details, refer to the <a href=\"http://data.neonscience.org/api/v0/documents/NEON.DOC.004571vA\" target=\"_blank\">NEON algorithm document</a>.\n",
    "\n",
    "Briefly, the data levels are:\n",
    "\n",
    "* Level 0' (dp0p): Calibrated raw observations\n",
    "* Level 1 (dp01): Time-aggregated observations, e.g. 30-minute mean gas concentrations\n",
    "* Level 2 (dp02): Time-interpolated data, e.g. rate of change of a gas concentration\n",
    "* Level 3 (dp03): Spatially interpolated data, i.e. vertical profiles\n",
    "* Level 4 (dp04): Fluxes\n",
    "\n",
    "The dp0p data are available in the expanded data package and are beyond \n",
    "the scope of this tutorial.\n",
    "\n",
    "The dp02 and dp03 data are used in storage calculations, and the dp04 data \n",
    "include both the storage and turbulent components. Since many users will \n",
    "want to focus on the net flux data, we'll start there."
   ]
  },
  {
   "cell_type": "markdown",
   "metadata": {},
   "source": [
    "## 3. Extract Level 4 data (Fluxes!)\n",
    "\n",
    "To extract the Level 4 data from the HDF5 files and merge them into a \n",
    "single table, we'll use the `stackEddy()` function from the `neonUtilities` \n",
    "package.\n",
    "\n",
    "`stackEddy()` requires two inputs:\n",
    "\n",
    "* `filepath`: Path to a file or folder, which can be any one of:\n",
    "    1. A zip file of eddy flux data downloaded from the NEON data portal\n",
    "    2. A folder of eddy flux data downloaded by the `zipsByProduct()` function\n",
    "    3. The folder of files resulting from unzipping either of 1 or 2\n",
    "    4. A single HDF5 file of NEON eddy flux data\n",
    "* `level`: dp01-4\n",
    "\n",
    "Input the filepath you downloaded to using `zipsByProduct()` earlier, \n",
    "and dp04:"
   ]
  },
  {
   "cell_type": "code",
   "execution_count": 2,
   "metadata": {},
   "outputs": [
    {
     "name": "stdout",
     "output_type": "stream",
     "text": [
      "Extracting data\n",
      "  |======================================================================| 100%\n",
      "Stacking data tables by month\n",
      "  |======================================================================| 100%\n",
      "Joining data variables\n",
      "  |======================================================================| 100%\n"
     ]
    }
   ],
   "source": [
    "flux <- stackEddy(filepath=\"/Users/clunch/Desktop/filesToStack00200/\",\n",
    "                 level=\"dp04\")"
   ]
  },
  {
   "cell_type": "markdown",
   "metadata": {},
   "source": [
    "We now have an object called `flux`. It's a named list containing four \n",
    "tables: one table for each site's data, and `variables` and `objDesc` \n",
    "tables."
   ]
  },
  {
   "cell_type": "code",
   "execution_count": 3,
   "metadata": {},
   "outputs": [
    {
     "data": {
      "text/html": [
       "<ol class=list-inline>\n",
       "\t<li>'HARV'</li>\n",
       "\t<li>'NIWO'</li>\n",
       "\t<li>'variables'</li>\n",
       "\t<li>'objDesc'</li>\n",
       "</ol>\n"
      ],
      "text/latex": [
       "\\begin{enumerate*}\n",
       "\\item 'HARV'\n",
       "\\item 'NIWO'\n",
       "\\item 'variables'\n",
       "\\item 'objDesc'\n",
       "\\end{enumerate*}\n"
      ],
      "text/markdown": [
       "1. 'HARV'\n",
       "2. 'NIWO'\n",
       "3. 'variables'\n",
       "4. 'objDesc'\n",
       "\n",
       "\n"
      ],
      "text/plain": [
       "[1] \"HARV\"      \"NIWO\"      \"variables\" \"objDesc\"  "
      ]
     },
     "metadata": {},
     "output_type": "display_data"
    }
   ],
   "source": [
    "names(flux)"
   ]
  },
  {
   "cell_type": "markdown",
   "metadata": {},
   "source": [
    "Let's look at the contents of one of the site data files:"
   ]
  },
  {
   "cell_type": "code",
   "execution_count": 4,
   "metadata": {},
   "outputs": [
    {
     "data": {
      "text/html": [
       "<table>\n",
       "<thead><tr><th scope=col>timeBgn</th><th scope=col>timeEnd</th><th scope=col>data.fluxCo2.nsae.flux</th><th scope=col>data.fluxCo2.stor.flux</th><th scope=col>data.fluxCo2.turb.flux</th><th scope=col>data.fluxH2o.nsae.flux</th><th scope=col>data.fluxH2o.stor.flux</th><th scope=col>data.fluxH2o.turb.flux</th><th scope=col>data.fluxMome.turb.veloFric</th><th scope=col>data.fluxTemp.nsae.flux</th><th scope=col>⋯</th><th scope=col>data.foot.stat.veloFric</th><th scope=col>data.foot.stat.distZaxsMeasDisp</th><th scope=col>data.foot.stat.distZaxsRgh</th><th scope=col>data.foot.stat.distZaxsAbl</th><th scope=col>data.foot.stat.distXaxs90</th><th scope=col>data.foot.stat.distXaxsMax</th><th scope=col>data.foot.stat.distYaxs90</th><th scope=col>qfqm.fluxCo2.stor.qfFinl</th><th scope=col>qfqm.fluxH2o.stor.qfFinl</th><th scope=col>qfqm.fluxTemp.stor.qfFinl</th></tr></thead>\n",
       "<tbody>\n",
       "\t<tr><td>2018-06-01T00:00:00.000Z</td><td>2018-06-01T00:29:59.000Z</td><td>0.1111935               </td><td>-0.06191186             </td><td>0.1731053               </td><td>19.401824               </td><td> 3.2511265              </td><td>16.150697               </td><td>0.19707045              </td><td>  4.1712006             </td><td>⋯                       </td><td>0.2                     </td><td>8.34                    </td><td>0.03221479              </td><td>1000                    </td><td>333.60                  </td><td>133.44                  </td><td>25.02                   </td><td>1                       </td><td>1                       </td><td>0                       </td></tr>\n",
       "\t<tr><td>2018-06-01T00:30:00.000Z</td><td>2018-06-01T00:59:59.000Z</td><td>0.9328922               </td><td> 0.08534117             </td><td>0.8475510               </td><td>10.444936               </td><td>-1.1768333              </td><td>11.621770               </td><td>0.19699723              </td><td> -0.9163691             </td><td>⋯                       </td><td>0.2                     </td><td>8.34                    </td><td>0.33007082              </td><td>1000                    </td><td>258.54                  </td><td>108.42                  </td><td>50.04                   </td><td>1                       </td><td>1                       </td><td>0                       </td></tr>\n",
       "\t<tr><td>2018-06-01T01:00:00.000Z</td><td>2018-06-01T01:29:59.000Z</td><td>0.4673682               </td><td> 0.02177216             </td><td>0.4455960               </td><td> 5.140617               </td><td>-4.3112673              </td><td> 9.451884               </td><td>0.06518208              </td><td> -2.9814957             </td><td>⋯                       </td><td>0.2                     </td><td>8.34                    </td><td>0.12876068              </td><td>1000                    </td><td>308.58                  </td><td>125.10                  </td><td>58.38                   </td><td>1                       </td><td>1                       </td><td>0                       </td></tr>\n",
       "\t<tr><td>2018-06-01T01:30:00.000Z</td><td>2018-06-01T01:59:59.000Z</td><td>0.7263614               </td><td> 0.24944366             </td><td>0.4769178               </td><td> 9.017467               </td><td> 0.1980776              </td><td> 8.819389               </td><td>0.12964000              </td><td>-13.3556222             </td><td>⋯                       </td><td>0.2                     </td><td>8.34                    </td><td>0.83400000              </td><td>1000                    </td><td>208.50                  </td><td> 83.40                  </td><td>75.06                   </td><td>1                       </td><td>1                       </td><td>0                       </td></tr>\n",
       "\t<tr><td>2018-06-01T02:00:00.000Z</td><td>2018-06-01T02:29:59.000Z</td><td>0.4740572               </td><td> 0.22524363             </td><td>0.2488136               </td><td> 3.180386               </td><td> 0.1316297              </td><td> 3.048756               </td><td>0.17460706              </td><td> -5.3406503             </td><td>⋯                       </td><td>0.2                     </td><td>8.34                    </td><td>0.83400000              </td><td>1000                    </td><td>208.50                  </td><td> 83.40                  </td><td>66.72                   </td><td>1                       </td><td>1                       </td><td>0                       </td></tr>\n",
       "\t<tr><td>2018-06-01T02:30:00.000Z</td><td>2018-06-01T02:59:59.000Z</td><td>0.8807022               </td><td> 0.07078007             </td><td>0.8099221               </td><td> 4.398761               </td><td>-0.2989443              </td><td> 4.697706               </td><td>0.10477970              </td><td> -7.2739206             </td><td>⋯                       </td><td>0.2                     </td><td>8.34                    </td><td>0.83400000              </td><td>1000                    </td><td>208.50                  </td><td> 83.40                  </td><td>41.70                   </td><td>1                       </td><td>1                       </td><td>0                       </td></tr>\n",
       "</tbody>\n",
       "</table>\n"
      ],
      "text/latex": [
       "\\begin{tabular}{r|llllllllllllllllllllllllll}\n",
       " timeBgn & timeEnd & data.fluxCo2.nsae.flux & data.fluxCo2.stor.flux & data.fluxCo2.turb.flux & data.fluxH2o.nsae.flux & data.fluxH2o.stor.flux & data.fluxH2o.turb.flux & data.fluxMome.turb.veloFric & data.fluxTemp.nsae.flux & ⋯ & data.foot.stat.veloFric & data.foot.stat.distZaxsMeasDisp & data.foot.stat.distZaxsRgh & data.foot.stat.distZaxsAbl & data.foot.stat.distXaxs90 & data.foot.stat.distXaxsMax & data.foot.stat.distYaxs90 & qfqm.fluxCo2.stor.qfFinl & qfqm.fluxH2o.stor.qfFinl & qfqm.fluxTemp.stor.qfFinl\\\\\n",
       "\\hline\n",
       "\t 2018-06-01T00:00:00.000Z & 2018-06-01T00:29:59.000Z & 0.1111935                & -0.06191186              & 0.1731053                & 19.401824                &  3.2511265               & 16.150697                & 0.19707045               &   4.1712006              & ⋯                        & 0.2                      & 8.34                     & 0.03221479               & 1000                     & 333.60                   & 133.44                   & 25.02                    & 1                        & 1                        & 0                       \\\\\n",
       "\t 2018-06-01T00:30:00.000Z & 2018-06-01T00:59:59.000Z & 0.9328922                &  0.08534117              & 0.8475510                & 10.444936                & -1.1768333               & 11.621770                & 0.19699723               &  -0.9163691              & ⋯                        & 0.2                      & 8.34                     & 0.33007082               & 1000                     & 258.54                   & 108.42                   & 50.04                    & 1                        & 1                        & 0                       \\\\\n",
       "\t 2018-06-01T01:00:00.000Z & 2018-06-01T01:29:59.000Z & 0.4673682                &  0.02177216              & 0.4455960                &  5.140617                & -4.3112673               &  9.451884                & 0.06518208               &  -2.9814957              & ⋯                        & 0.2                      & 8.34                     & 0.12876068               & 1000                     & 308.58                   & 125.10                   & 58.38                    & 1                        & 1                        & 0                       \\\\\n",
       "\t 2018-06-01T01:30:00.000Z & 2018-06-01T01:59:59.000Z & 0.7263614                &  0.24944366              & 0.4769178                &  9.017467                &  0.1980776               &  8.819389                & 0.12964000               & -13.3556222              & ⋯                        & 0.2                      & 8.34                     & 0.83400000               & 1000                     & 208.50                   &  83.40                   & 75.06                    & 1                        & 1                        & 0                       \\\\\n",
       "\t 2018-06-01T02:00:00.000Z & 2018-06-01T02:29:59.000Z & 0.4740572                &  0.22524363              & 0.2488136                &  3.180386                &  0.1316297               &  3.048756                & 0.17460706               &  -5.3406503              & ⋯                        & 0.2                      & 8.34                     & 0.83400000               & 1000                     & 208.50                   &  83.40                   & 66.72                    & 1                        & 1                        & 0                       \\\\\n",
       "\t 2018-06-01T02:30:00.000Z & 2018-06-01T02:59:59.000Z & 0.8807022                &  0.07078007              & 0.8099221                &  4.398761                & -0.2989443               &  4.697706                & 0.10477970               &  -7.2739206              & ⋯                        & 0.2                      & 8.34                     & 0.83400000               & 1000                     & 208.50                   &  83.40                   & 41.70                    & 1                        & 1                        & 0                       \\\\\n",
       "\\end{tabular}\n"
      ],
      "text/markdown": [
       "\n",
       "timeBgn | timeEnd | data.fluxCo2.nsae.flux | data.fluxCo2.stor.flux | data.fluxCo2.turb.flux | data.fluxH2o.nsae.flux | data.fluxH2o.stor.flux | data.fluxH2o.turb.flux | data.fluxMome.turb.veloFric | data.fluxTemp.nsae.flux | ⋯ | data.foot.stat.veloFric | data.foot.stat.distZaxsMeasDisp | data.foot.stat.distZaxsRgh | data.foot.stat.distZaxsAbl | data.foot.stat.distXaxs90 | data.foot.stat.distXaxsMax | data.foot.stat.distYaxs90 | qfqm.fluxCo2.stor.qfFinl | qfqm.fluxH2o.stor.qfFinl | qfqm.fluxTemp.stor.qfFinl | \n",
       "|---|---|---|---|---|---|\n",
       "| 2018-06-01T00:00:00.000Z | 2018-06-01T00:29:59.000Z | 0.1111935                | -0.06191186              | 0.1731053                | 19.401824                |  3.2511265               | 16.150697                | 0.19707045               |   4.1712006              | ⋯                        | 0.2                      | 8.34                     | 0.03221479               | 1000                     | 333.60                   | 133.44                   | 25.02                    | 1                        | 1                        | 0                        | \n",
       "| 2018-06-01T00:30:00.000Z | 2018-06-01T00:59:59.000Z | 0.9328922                |  0.08534117              | 0.8475510                | 10.444936                | -1.1768333               | 11.621770                | 0.19699723               |  -0.9163691              | ⋯                        | 0.2                      | 8.34                     | 0.33007082               | 1000                     | 258.54                   | 108.42                   | 50.04                    | 1                        | 1                        | 0                        | \n",
       "| 2018-06-01T01:00:00.000Z | 2018-06-01T01:29:59.000Z | 0.4673682                |  0.02177216              | 0.4455960                |  5.140617                | -4.3112673               |  9.451884                | 0.06518208               |  -2.9814957              | ⋯                        | 0.2                      | 8.34                     | 0.12876068               | 1000                     | 308.58                   | 125.10                   | 58.38                    | 1                        | 1                        | 0                        | \n",
       "| 2018-06-01T01:30:00.000Z | 2018-06-01T01:59:59.000Z | 0.7263614                |  0.24944366              | 0.4769178                |  9.017467                |  0.1980776               |  8.819389                | 0.12964000               | -13.3556222              | ⋯                        | 0.2                      | 8.34                     | 0.83400000               | 1000                     | 208.50                   |  83.40                   | 75.06                    | 1                        | 1                        | 0                        | \n",
       "| 2018-06-01T02:00:00.000Z | 2018-06-01T02:29:59.000Z | 0.4740572                |  0.22524363              | 0.2488136                |  3.180386                |  0.1316297               |  3.048756                | 0.17460706               |  -5.3406503              | ⋯                        | 0.2                      | 8.34                     | 0.83400000               | 1000                     | 208.50                   |  83.40                   | 66.72                    | 1                        | 1                        | 0                        | \n",
       "| 2018-06-01T02:30:00.000Z | 2018-06-01T02:59:59.000Z | 0.8807022                |  0.07078007              | 0.8099221                |  4.398761                | -0.2989443               |  4.697706                | 0.10477970               |  -7.2739206              | ⋯                        | 0.2                      | 8.34                     | 0.83400000               | 1000                     | 208.50                   |  83.40                   | 41.70                    | 1                        | 1                        | 0                        | \n",
       "\n",
       "\n"
      ],
      "text/plain": [
       "  timeBgn                  timeEnd                  data.fluxCo2.nsae.flux\n",
       "1 2018-06-01T00:00:00.000Z 2018-06-01T00:29:59.000Z 0.1111935             \n",
       "2 2018-06-01T00:30:00.000Z 2018-06-01T00:59:59.000Z 0.9328922             \n",
       "3 2018-06-01T01:00:00.000Z 2018-06-01T01:29:59.000Z 0.4673682             \n",
       "4 2018-06-01T01:30:00.000Z 2018-06-01T01:59:59.000Z 0.7263614             \n",
       "5 2018-06-01T02:00:00.000Z 2018-06-01T02:29:59.000Z 0.4740572             \n",
       "6 2018-06-01T02:30:00.000Z 2018-06-01T02:59:59.000Z 0.8807022             \n",
       "  data.fluxCo2.stor.flux data.fluxCo2.turb.flux data.fluxH2o.nsae.flux\n",
       "1 -0.06191186            0.1731053              19.401824             \n",
       "2  0.08534117            0.8475510              10.444936             \n",
       "3  0.02177216            0.4455960               5.140617             \n",
       "4  0.24944366            0.4769178               9.017467             \n",
       "5  0.22524363            0.2488136               3.180386             \n",
       "6  0.07078007            0.8099221               4.398761             \n",
       "  data.fluxH2o.stor.flux data.fluxH2o.turb.flux data.fluxMome.turb.veloFric\n",
       "1  3.2511265             16.150697              0.19707045                 \n",
       "2 -1.1768333             11.621770              0.19699723                 \n",
       "3 -4.3112673              9.451884              0.06518208                 \n",
       "4  0.1980776              8.819389              0.12964000                 \n",
       "5  0.1316297              3.048756              0.17460706                 \n",
       "6 -0.2989443              4.697706              0.10477970                 \n",
       "  data.fluxTemp.nsae.flux ⋯ data.foot.stat.veloFric\n",
       "1   4.1712006             ⋯ 0.2                    \n",
       "2  -0.9163691             ⋯ 0.2                    \n",
       "3  -2.9814957             ⋯ 0.2                    \n",
       "4 -13.3556222             ⋯ 0.2                    \n",
       "5  -5.3406503             ⋯ 0.2                    \n",
       "6  -7.2739206             ⋯ 0.2                    \n",
       "  data.foot.stat.distZaxsMeasDisp data.foot.stat.distZaxsRgh\n",
       "1 8.34                            0.03221479                \n",
       "2 8.34                            0.33007082                \n",
       "3 8.34                            0.12876068                \n",
       "4 8.34                            0.83400000                \n",
       "5 8.34                            0.83400000                \n",
       "6 8.34                            0.83400000                \n",
       "  data.foot.stat.distZaxsAbl data.foot.stat.distXaxs90\n",
       "1 1000                       333.60                   \n",
       "2 1000                       258.54                   \n",
       "3 1000                       308.58                   \n",
       "4 1000                       208.50                   \n",
       "5 1000                       208.50                   \n",
       "6 1000                       208.50                   \n",
       "  data.foot.stat.distXaxsMax data.foot.stat.distYaxs90 qfqm.fluxCo2.stor.qfFinl\n",
       "1 133.44                     25.02                     1                       \n",
       "2 108.42                     50.04                     1                       \n",
       "3 125.10                     58.38                     1                       \n",
       "4  83.40                     75.06                     1                       \n",
       "5  83.40                     66.72                     1                       \n",
       "6  83.40                     41.70                     1                       \n",
       "  qfqm.fluxH2o.stor.qfFinl qfqm.fluxTemp.stor.qfFinl\n",
       "1 1                        0                        \n",
       "2 1                        0                        \n",
       "3 1                        0                        \n",
       "4 1                        0                        \n",
       "5 1                        0                        \n",
       "6 1                        0                        "
      ]
     },
     "metadata": {},
     "output_type": "display_data"
    }
   ],
   "source": [
    "head(flux$NIWO)"
   ]
  },
  {
   "cell_type": "markdown",
   "metadata": {},
   "source": [
    "The `variables` and `objDesc` tables can help you interpret the column \n",
    "headers in the data table. The `objDesc` table contains definitions for \n",
    "many of the terms used in the eddy flux data product, but it isn't \n",
    "complete. To get the terms of interest, we'll break up the column headers \n",
    "into individual terms and look for them in the `objDesc` table:"
   ]
  },
  {
   "cell_type": "code",
   "execution_count": 7,
   "metadata": {},
   "outputs": [
    {
     "data": {
      "text/html": [
       "<table>\n",
       "<thead><tr><th></th><th scope=col>Object</th><th scope=col>Description</th></tr></thead>\n",
       "<tbody>\n",
       "\t<tr><th scope=row>138</th><td>angZaxsErth                                                                                                    </td><td>Wind direction                                                                                                 </td></tr>\n",
       "\t<tr><th scope=row>171</th><td>data                                                                                                           </td><td>Represents data fields                                                                                         </td></tr>\n",
       "\t<tr><th scope=row>343</th><td>qfFinl                                                                                                         </td><td>The final quality flag indicating if the data are valid for the given aggregation period (1=fail, 0=pass)      </td></tr>\n",
       "\t<tr><th scope=row>420</th><td>qfqm                                                                                                           </td><td>Quality flag and quality metrics, represents quality flags and quality metrics that accompany the provided data</td></tr>\n",
       "\t<tr><th scope=row>604</th><td>timeBgn                                                                                                        </td><td>The beginning time of the aggregation period                                                                   </td></tr>\n",
       "\t<tr><th scope=row>605</th><td>timeEnd                                                                                                        </td><td>The end time of the aggregation period                                                                         </td></tr>\n",
       "</tbody>\n",
       "</table>\n"
      ],
      "text/latex": [
       "\\begin{tabular}{r|ll}\n",
       "  & Object & Description\\\\\n",
       "\\hline\n",
       "\t138 & angZaxsErth                                                                                                     & Wind direction                                                                                                 \\\\\n",
       "\t171 & data                                                                                                            & Represents data fields                                                                                         \\\\\n",
       "\t343 & qfFinl                                                                                                          & The final quality flag indicating if the data are valid for the given aggregation period (1=fail, 0=pass)      \\\\\n",
       "\t420 & qfqm                                                                                                            & Quality flag and quality metrics, represents quality flags and quality metrics that accompany the provided data\\\\\n",
       "\t604 & timeBgn                                                                                                         & The beginning time of the aggregation period                                                                   \\\\\n",
       "\t605 & timeEnd                                                                                                         & The end time of the aggregation period                                                                         \\\\\n",
       "\\end{tabular}\n"
      ],
      "text/markdown": [
       "\n",
       "| <!--/--> | Object | Description | \n",
       "|---|---|---|---|---|---|\n",
       "| 138 | angZaxsErth                                                                                                     | Wind direction                                                                                                  | \n",
       "| 171 | data                                                                                                            | Represents data fields                                                                                          | \n",
       "| 343 | qfFinl                                                                                                          | The final quality flag indicating if the data are valid for the given aggregation period (1=fail, 0=pass)       | \n",
       "| 420 | qfqm                                                                                                            | Quality flag and quality metrics, represents quality flags and quality metrics that accompany the provided data | \n",
       "| 604 | timeBgn                                                                                                         | The beginning time of the aggregation period                                                                    | \n",
       "| 605 | timeEnd                                                                                                         | The end time of the aggregation period                                                                          | \n",
       "\n",
       "\n"
      ],
      "text/plain": [
       "    Object     \n",
       "138 angZaxsErth\n",
       "171 data       \n",
       "343 qfFinl     \n",
       "420 qfqm       \n",
       "604 timeBgn    \n",
       "605 timeEnd    \n",
       "    Description                                                                                                    \n",
       "138 Wind direction                                                                                                 \n",
       "171 Represents data fields                                                                                         \n",
       "343 The final quality flag indicating if the data are valid for the given aggregation period (1=fail, 0=pass)      \n",
       "420 Quality flag and quality metrics, represents quality flags and quality metrics that accompany the provided data\n",
       "604 The beginning time of the aggregation period                                                                   \n",
       "605 The end time of the aggregation period                                                                         "
      ]
     },
     "metadata": {},
     "output_type": "display_data"
    }
   ],
   "source": [
    "term <- unlist(strsplit(names(flux$NIWO), split=\".\", fixed=T))\n",
    "flux$objDesc[which(flux$objDesc$Object %in% term),]"
   ]
  },
  {
   "cell_type": "markdown",
   "metadata": {},
   "source": [
    "For the terms that aren't captured here, `fluxCo2`, `fluxH2o`, and `fluxTemp` \n",
    "are self-explanatory. The flux components are\n",
    "\n",
    "* `turb`: Turbulent flux\n",
    "* `stor`: Storage\n",
    "* `nsae`: Net surface-atmosphere exchange\n",
    "\n",
    "The `variables` table contains the units for each field:"
   ]
  },
  {
   "cell_type": "code",
   "execution_count": 8,
   "metadata": {},
   "outputs": [
    {
     "data": {
      "text/html": [
       "<table>\n",
       "<thead><tr><th scope=col>category</th><th scope=col>system</th><th scope=col>variable</th><th scope=col>stat</th><th scope=col>units</th></tr></thead>\n",
       "<tbody>\n",
       "\t<tr><td>data            </td><td>fluxCo2         </td><td>nsae            </td><td>                </td><td>umolCo2 m-2 s-1 </td></tr>\n",
       "\t<tr><td>data            </td><td>fluxCo2         </td><td>stor            </td><td>                </td><td>umolCo2 m-2 s-1 </td></tr>\n",
       "\t<tr><td>data            </td><td>fluxCo2         </td><td>turb            </td><td>                </td><td>umolCo2 m-2 s-1 </td></tr>\n",
       "\t<tr><td>data            </td><td>fluxH2o         </td><td>nsae            </td><td>                </td><td>W m-2           </td></tr>\n",
       "\t<tr><td>data            </td><td>fluxH2o         </td><td>stor            </td><td>                </td><td>W m-2           </td></tr>\n",
       "\t<tr><td>data            </td><td>fluxH2o         </td><td>turb            </td><td>                </td><td>W m-2           </td></tr>\n",
       "\t<tr><td>data            </td><td>fluxMome        </td><td>turb            </td><td>                </td><td>m s-1           </td></tr>\n",
       "\t<tr><td>data            </td><td>fluxTemp        </td><td>nsae            </td><td>                </td><td>W m-2           </td></tr>\n",
       "\t<tr><td>data            </td><td>fluxTemp        </td><td>stor            </td><td>                </td><td>W m-2           </td></tr>\n",
       "\t<tr><td>data            </td><td>fluxTemp        </td><td>turb            </td><td>                </td><td>W m-2           </td></tr>\n",
       "\t<tr><td>data            </td><td>foot            </td><td>stat            </td><td>angZaxsErth     </td><td>deg             </td></tr>\n",
       "\t<tr><td>data            </td><td>foot            </td><td>stat            </td><td>distReso        </td><td>m               </td></tr>\n",
       "\t<tr><td>data            </td><td>foot            </td><td>stat            </td><td>veloYaxsHorSd   </td><td>m s-1           </td></tr>\n",
       "\t<tr><td>data            </td><td>foot            </td><td>stat            </td><td>veloZaxsHorSd   </td><td>m s-1           </td></tr>\n",
       "\t<tr><td>data            </td><td>foot            </td><td>stat            </td><td>veloFric        </td><td>m s-1           </td></tr>\n",
       "\t<tr><td>data            </td><td>foot            </td><td>stat            </td><td>distZaxsMeasDisp</td><td>m               </td></tr>\n",
       "\t<tr><td>data            </td><td>foot            </td><td>stat            </td><td>distZaxsRgh     </td><td>m               </td></tr>\n",
       "\t<tr><td>data            </td><td>foot            </td><td>stat            </td><td>distZaxsAbl     </td><td>m               </td></tr>\n",
       "\t<tr><td>data            </td><td>foot            </td><td>stat            </td><td>distXaxs90      </td><td>m               </td></tr>\n",
       "\t<tr><td>data            </td><td>foot            </td><td>stat            </td><td>distXaxsMax     </td><td>m               </td></tr>\n",
       "\t<tr><td>data            </td><td>foot            </td><td>stat            </td><td>distYaxs90      </td><td>m               </td></tr>\n",
       "\t<tr><td>qfqm            </td><td>fluxCo2         </td><td>stor            </td><td>                </td><td>NA              </td></tr>\n",
       "\t<tr><td>qfqm            </td><td>fluxH2o         </td><td>stor            </td><td>                </td><td>NA              </td></tr>\n",
       "\t<tr><td>qfqm            </td><td>fluxTemp        </td><td>stor            </td><td>                </td><td>NA              </td></tr>\n",
       "</tbody>\n",
       "</table>\n"
      ],
      "text/latex": [
       "\\begin{tabular}{r|lllll}\n",
       " category & system & variable & stat & units\\\\\n",
       "\\hline\n",
       "\t data             & fluxCo2          & nsae             &                  & umolCo2 m-2 s-1 \\\\\n",
       "\t data             & fluxCo2          & stor             &                  & umolCo2 m-2 s-1 \\\\\n",
       "\t data             & fluxCo2          & turb             &                  & umolCo2 m-2 s-1 \\\\\n",
       "\t data             & fluxH2o          & nsae             &                  & W m-2           \\\\\n",
       "\t data             & fluxH2o          & stor             &                  & W m-2           \\\\\n",
       "\t data             & fluxH2o          & turb             &                  & W m-2           \\\\\n",
       "\t data             & fluxMome         & turb             &                  & m s-1           \\\\\n",
       "\t data             & fluxTemp         & nsae             &                  & W m-2           \\\\\n",
       "\t data             & fluxTemp         & stor             &                  & W m-2           \\\\\n",
       "\t data             & fluxTemp         & turb             &                  & W m-2           \\\\\n",
       "\t data             & foot             & stat             & angZaxsErth      & deg             \\\\\n",
       "\t data             & foot             & stat             & distReso         & m               \\\\\n",
       "\t data             & foot             & stat             & veloYaxsHorSd    & m s-1           \\\\\n",
       "\t data             & foot             & stat             & veloZaxsHorSd    & m s-1           \\\\\n",
       "\t data             & foot             & stat             & veloFric         & m s-1           \\\\\n",
       "\t data             & foot             & stat             & distZaxsMeasDisp & m               \\\\\n",
       "\t data             & foot             & stat             & distZaxsRgh      & m               \\\\\n",
       "\t data             & foot             & stat             & distZaxsAbl      & m               \\\\\n",
       "\t data             & foot             & stat             & distXaxs90       & m               \\\\\n",
       "\t data             & foot             & stat             & distXaxsMax      & m               \\\\\n",
       "\t data             & foot             & stat             & distYaxs90       & m               \\\\\n",
       "\t qfqm             & fluxCo2          & stor             &                  & NA              \\\\\n",
       "\t qfqm             & fluxH2o          & stor             &                  & NA              \\\\\n",
       "\t qfqm             & fluxTemp         & stor             &                  & NA              \\\\\n",
       "\\end{tabular}\n"
      ],
      "text/markdown": [
       "\n",
       "category | system | variable | stat | units | \n",
       "|---|---|---|---|---|---|---|---|---|---|---|---|---|---|---|---|---|---|---|---|---|---|---|---|\n",
       "| data             | fluxCo2          | nsae             |                  | umolCo2 m-2 s-1  | \n",
       "| data             | fluxCo2          | stor             |                  | umolCo2 m-2 s-1  | \n",
       "| data             | fluxCo2          | turb             |                  | umolCo2 m-2 s-1  | \n",
       "| data             | fluxH2o          | nsae             |                  | W m-2            | \n",
       "| data             | fluxH2o          | stor             |                  | W m-2            | \n",
       "| data             | fluxH2o          | turb             |                  | W m-2            | \n",
       "| data             | fluxMome         | turb             |                  | m s-1            | \n",
       "| data             | fluxTemp         | nsae             |                  | W m-2            | \n",
       "| data             | fluxTemp         | stor             |                  | W m-2            | \n",
       "| data             | fluxTemp         | turb             |                  | W m-2            | \n",
       "| data             | foot             | stat             | angZaxsErth      | deg              | \n",
       "| data             | foot             | stat             | distReso         | m                | \n",
       "| data             | foot             | stat             | veloYaxsHorSd    | m s-1            | \n",
       "| data             | foot             | stat             | veloZaxsHorSd    | m s-1            | \n",
       "| data             | foot             | stat             | veloFric         | m s-1            | \n",
       "| data             | foot             | stat             | distZaxsMeasDisp | m                | \n",
       "| data             | foot             | stat             | distZaxsRgh      | m                | \n",
       "| data             | foot             | stat             | distZaxsAbl      | m                | \n",
       "| data             | foot             | stat             | distXaxs90       | m                | \n",
       "| data             | foot             | stat             | distXaxsMax      | m                | \n",
       "| data             | foot             | stat             | distYaxs90       | m                | \n",
       "| qfqm             | fluxCo2          | stor             |                  | NA               | \n",
       "| qfqm             | fluxH2o          | stor             |                  | NA               | \n",
       "| qfqm             | fluxTemp         | stor             |                  | NA               | \n",
       "\n",
       "\n"
      ],
      "text/plain": [
       "   category system   variable stat             units          \n",
       "1  data     fluxCo2  nsae                      umolCo2 m-2 s-1\n",
       "2  data     fluxCo2  stor                      umolCo2 m-2 s-1\n",
       "3  data     fluxCo2  turb                      umolCo2 m-2 s-1\n",
       "4  data     fluxH2o  nsae                      W m-2          \n",
       "5  data     fluxH2o  stor                      W m-2          \n",
       "6  data     fluxH2o  turb                      W m-2          \n",
       "7  data     fluxMome turb                      m s-1          \n",
       "8  data     fluxTemp nsae                      W m-2          \n",
       "9  data     fluxTemp stor                      W m-2          \n",
       "10 data     fluxTemp turb                      W m-2          \n",
       "11 data     foot     stat     angZaxsErth      deg            \n",
       "12 data     foot     stat     distReso         m              \n",
       "13 data     foot     stat     veloYaxsHorSd    m s-1          \n",
       "14 data     foot     stat     veloZaxsHorSd    m s-1          \n",
       "15 data     foot     stat     veloFric         m s-1          \n",
       "16 data     foot     stat     distZaxsMeasDisp m              \n",
       "17 data     foot     stat     distZaxsRgh      m              \n",
       "18 data     foot     stat     distZaxsAbl      m              \n",
       "19 data     foot     stat     distXaxs90       m              \n",
       "20 data     foot     stat     distXaxsMax      m              \n",
       "21 data     foot     stat     distYaxs90       m              \n",
       "22 qfqm     fluxCo2  stor                      NA             \n",
       "23 qfqm     fluxH2o  stor                      NA             \n",
       "24 qfqm     fluxTemp stor                      NA             "
      ]
     },
     "metadata": {},
     "output_type": "display_data"
    }
   ],
   "source": [
    "flux$variables"
   ]
  },
  {
   "cell_type": "markdown",
   "metadata": {},
   "source": [
    "Let's plot some data! First, we'll need to convert the time stamps \n",
    "to an R date-time format (right now they're just character fields.)\n",
    "\n",
    "### Time stamps\n",
    "\n",
    "NEON sensor data come with time stamps for both the start and end of \n",
    "the averaging period. Depending on the analysis you're doing, you may \n",
    "want to use one or the other; for general plotting, re-formatting, and \n",
    "transformations, I prefer to use the start time, because there \n",
    "are some small inconsistencies between data products in a few of the \n",
    "end time stamps.\n",
    "\n",
    "Note that **all** NEON data use UTC time, noted as \n",
    "`tz=\"GMT\"` in the code below. This is true across NEON's instrumented, \n",
    "observational, and airborne measurements. When working with NEON data, \n",
    "it's best to keep everything in UTC as much as possible, otherwise it's \n",
    "very easy to end up with data in mismatched times, which can cause \n",
    "insidious and hard-to-detect problems. Be sure to include the `tz` \n",
    "argument in all the lines of code below - if there is no time zone \n",
    "specified, R will default to the local time zone it detects on your \n",
    "operating system."
   ]
  },
  {
   "cell_type": "code",
   "execution_count": 26,
   "metadata": {},
   "outputs": [],
   "source": [
    "timeB <- substring(flux$NIWO$timeBgn, 1, nchar(flux$NIWO$timeBgn)-4)\n",
    "timeB <- strptime(timeB, format=\"%Y-%m-%dT%H:%M:%S\", tz=\"GMT\")\n",
    "timeB <- as.POSIXct(timeB)"
   ]
  },
  {
   "cell_type": "code",
   "execution_count": 27,
   "metadata": {},
   "outputs": [
    {
     "data": {
      "image/png": "[encoded data removed]",
      "text/plain": [
       "plot without title"
      ]
     },
     "metadata": {},
     "output_type": "display_data"
    }
   ],
   "source": [
    "plot(flux$NIWO$data.fluxCo2.nsae.flux~timeB, pch=\".\",\n",
    "    xlab=\"Date\", ylab=\"CO2 flux\", format=\"%Y-%m-%d\")"
   ]
  },
  {
   "cell_type": "markdown",
   "metadata": {},
   "source": [
    "Like a lot of flux data, these data have some stray spikes, but there \n",
    "is a clear diurnal pattern going into the growing season.\n",
    "\n",
    "Let's trim down to just two days of data to see a few other details."
   ]
  },
  {
   "cell_type": "code",
   "execution_count": 30,
   "metadata": {},
   "outputs": [
    {
     "data": {
      "image/png": "[encoded data removed]",
      "text/plain": [
       "plot without title"
      ]
     },
     "metadata": {},
     "output_type": "display_data"
    }
   ],
   "source": [
    "plot(flux$NIWO$data.fluxCo2.nsae.flux~timeB, \n",
    "     pch=20, xlab=\"Date\", ylab=\"CO2 flux\",\n",
    "     xlim=c(as.POSIXct(\"2018-07-07\", tz=\"GMT\"),\n",
    "            as.POSIXct(\"2018-07-09\", tz=\"GMT\")),\n",
    "    ylim=c(-20,20),\n",
    "    format=\"%Y-%m-%d\")"
   ]
  },
  {
   "cell_type": "markdown",
   "metadata": {},
   "source": [
    "Note the timing of C uptake; the UTC time zone is clear here, where \n",
    "uptake occurs at times that appear to be during the night."
   ]
  },
  {
   "cell_type": "markdown",
   "metadata": {},
   "source": [
    "## 3. Merge flux data with other sensor data\n",
    "\n",
    "Many of the data sets we would use to interpret and model flux data are \n",
    "measured as part of the NEON project, but are not present in the eddy flux \n",
    "data product bundle. In this section, we'll download PAR data and merge \n",
    "them with the flux data; the steps taken here can be applied to any of the \n",
    "NEON instrumented (IS) data products."
   ]
  },
  {
   "cell_type": "markdown",
   "metadata": {},
   "source": [
    "### Download PAR data\n",
    "\n",
    "To get NEON PAR data, use the `loadByProduct()` function from the \n",
    "`neonUtilities` package. `loadByProduct()` takes the same inputs as \n",
    "`zipsByProduct()`, but it loads the downloaded data directly into the \n",
    "current R environment.\n",
    "\n",
    "Let's download PAR data matching the Niwot Ridge flux data. The inputs \n",
    "needed are:\n",
    "\n",
    "* `dpID`: DP1.00024.001\n",
    "* `site`: NIWO\n",
    "* `startdate`: 2018-06\n",
    "* `enddate`: 2018-07\n",
    "* `package`: basic\n",
    "* `avg`: 30\n",
    "\n",
    "The new input here is `avg=30`, which downloads only the 30-minute data. \n",
    "Since the flux data are at a 30-minute resolution, we can save on \n",
    "download time by disregarding the 1-minute data files (which are of course \n",
    "30 times larger)."
   ]
  },
  {
   "cell_type": "code",
   "execution_count": 33,
   "metadata": {},
   "outputs": [
    {
     "name": "stdout",
     "output_type": "stream",
     "text": [
      "Downloading 9 files\n",
      "  |======================================================================| 100%\n",
      "\n",
      "Stacking table PARPAR_30min\n",
      "  |======================================================================| 100%\n",
      "Finished: All of the data are stacked into 1 tables!\n",
      "Copied the first available variable definition file to /stackedFiles and renamed as variables.csv\n",
      "Stacked PARPAR_30min which has 11712 out of the expected 11712 rows (100%).\n",
      "Stacking took 0.3780541 secs\n",
      "All unzipped monthly data folders have been removed.\n"
     ]
    }
   ],
   "source": [
    "pr <- loadByProduct(\"DP1.00024.001\", site=\"NIWO\", avg=30,\n",
    "                    startdate=\"2018-06\", enddate=\"2018-07\",\n",
    "                    package=\"basic\", check.size=F)"
   ]
  },
  {
   "cell_type": "code",
   "execution_count": null,
   "metadata": {},
   "outputs": [],
   "source": []
  }
 ],
 "metadata": {
  "kernelspec": {
   "display_name": "R",
   "language": "R",
   "name": "ir"
  },
  "language_info": {
   "codemirror_mode": "r",
   "file_extension": ".r",
   "mimetype": "text/x-r-source",
   "name": "R",
   "pygments_lexer": "r",
   "version": "3.5.2"
  }
 },
 "nbformat": 4,
 "nbformat_minor": 2
}
